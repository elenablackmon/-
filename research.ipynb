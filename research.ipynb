{
 "cells": [
  {
   "cell_type": "markdown",
   "id": "072ad009",
   "metadata": {},
   "source": [
    "# Research"
   ]
  },
  {
   "cell_type": "markdown",
   "id": "29bc72bb",
   "metadata": {},
   "source": [
    "Research for program"
   ]
  },
  {
   "cell_type": "markdown",
   "id": "79243c38",
   "metadata": {},
   "source": [
    "## 0. Imports"
   ]
  },
  {
   "cell_type": "code",
   "execution_count": 128,
   "id": "810816c8",
   "metadata": {},
   "outputs": [],
   "source": [
    "import pandas as pd\n",
    "import numpy as np\n",
    "import sklearn\n",
    "\n",
    "from sklearn.model_selection import (train_test_split,\n",
    "                                     KFold,\n",
    "                                    cross_val_score,\n",
    "                                    StratifiedKFold,\n",
    "                                    GridSearchCV,\n",
    "                                    ParameterGrid)\n",
    "\n",
    "from sklearn.linear_model import (LogisticRegression, \n",
    "                                  LinearRegression)\n",
    "from sklearn.svm import SVC\n",
    "from sklearn.tree import (DecisionTreeClassifier,\n",
    "                          DecisionTreeRegressor)\n",
    "from sklearn.ensemble import (RandomForestRegressor, \n",
    "                              VotingRegressor, \n",
    "                              BaggingRegressor, \n",
    "                              StackingRegressor)\n",
    "from sklearn.ensemble import (RandomForestClassifier,\n",
    "                              VotingClassifier, \n",
    "                              BaggingClassifier,\n",
    "                             StackingClassifier)\n",
    "from sklearn.metrics import (accuracy_score,\n",
    "                             make_scorer,\n",
    "                             confusion_matrix, \n",
    "                             classification_report, \n",
    "                             mean_squared_error,\n",
    "                            f1_score,\n",
    "                            precision_score,\n",
    "                            recall_score)\n",
    "import math\n",
    "import joblib\n",
    "import pickle\n",
    "\n",
    "import requests\n",
    "import json\n",
    "import time\n",
    "from tqdm import tqdm\n",
    "from time import sleep\n",
    "\n",
    "from urllib import request\n",
    "from urllib.error import HTTPError, URLError\n",
    "from bs4 import BeautifulSoup\n",
    "\n",
    "import sys\n",
    "from os import path\n",
    "import argparse\n",
    "import unidecode\n",
    "\n",
    "import warnings\n",
    "warnings.filterwarnings('ignore')"
   ]
  },
  {
   "cell_type": "markdown",
   "id": "9ad39057",
   "metadata": {},
   "source": [
    "## 1. Forecast\n",
    "## 1. 1. Preprocessing"
   ]
  },
  {
   "cell_type": "markdown",
   "id": "602a7601",
   "metadata": {},
   "source": [
    "Dataset form site Epicurious, prepared by HugoDarwood.\n",
    "link - https://www.kaggle.com/datasets/hugodarwood/epirecipes"
   ]
  },
  {
   "cell_type": "code",
   "execution_count": 101,
   "id": "d5d3dd5b",
   "metadata": {},
   "outputs": [
    {
     "data": {
      "text/html": [
       "<div>\n",
       "<style scoped>\n",
       "    .dataframe tbody tr th:only-of-type {\n",
       "        vertical-align: middle;\n",
       "    }\n",
       "\n",
       "    .dataframe tbody tr th {\n",
       "        vertical-align: top;\n",
       "    }\n",
       "\n",
       "    .dataframe thead th {\n",
       "        text-align: right;\n",
       "    }\n",
       "</style>\n",
       "<table border=\"1\" class=\"dataframe\">\n",
       "  <thead>\n",
       "    <tr style=\"text-align: right;\">\n",
       "      <th></th>\n",
       "      <th>title</th>\n",
       "      <th>rating</th>\n",
       "      <th>calories</th>\n",
       "      <th>protein</th>\n",
       "      <th>fat</th>\n",
       "      <th>sodium</th>\n",
       "      <th>#cakeweek</th>\n",
       "      <th>#wasteless</th>\n",
       "      <th>22-minute meals</th>\n",
       "      <th>3-ingredient recipes</th>\n",
       "      <th>...</th>\n",
       "      <th>yellow squash</th>\n",
       "      <th>yogurt</th>\n",
       "      <th>yonkers</th>\n",
       "      <th>yuca</th>\n",
       "      <th>zucchini</th>\n",
       "      <th>cookbooks</th>\n",
       "      <th>leftovers</th>\n",
       "      <th>snack</th>\n",
       "      <th>snack week</th>\n",
       "      <th>turkey</th>\n",
       "    </tr>\n",
       "  </thead>\n",
       "  <tbody>\n",
       "    <tr>\n",
       "      <th>0</th>\n",
       "      <td>Lentil, Apple, and Turkey Wrap</td>\n",
       "      <td>2.500</td>\n",
       "      <td>426.0</td>\n",
       "      <td>30.0</td>\n",
       "      <td>7.0</td>\n",
       "      <td>559.0</td>\n",
       "      <td>0.0</td>\n",
       "      <td>0.0</td>\n",
       "      <td>0.0</td>\n",
       "      <td>0.0</td>\n",
       "      <td>...</td>\n",
       "      <td>0.0</td>\n",
       "      <td>0.0</td>\n",
       "      <td>0.0</td>\n",
       "      <td>0.0</td>\n",
       "      <td>0.0</td>\n",
       "      <td>0.0</td>\n",
       "      <td>0.0</td>\n",
       "      <td>0.0</td>\n",
       "      <td>0.0</td>\n",
       "      <td>1.0</td>\n",
       "    </tr>\n",
       "    <tr>\n",
       "      <th>1</th>\n",
       "      <td>Boudin Blanc Terrine with Red Onion Confit</td>\n",
       "      <td>4.375</td>\n",
       "      <td>403.0</td>\n",
       "      <td>18.0</td>\n",
       "      <td>23.0</td>\n",
       "      <td>1439.0</td>\n",
       "      <td>0.0</td>\n",
       "      <td>0.0</td>\n",
       "      <td>0.0</td>\n",
       "      <td>0.0</td>\n",
       "      <td>...</td>\n",
       "      <td>0.0</td>\n",
       "      <td>0.0</td>\n",
       "      <td>0.0</td>\n",
       "      <td>0.0</td>\n",
       "      <td>0.0</td>\n",
       "      <td>0.0</td>\n",
       "      <td>0.0</td>\n",
       "      <td>0.0</td>\n",
       "      <td>0.0</td>\n",
       "      <td>0.0</td>\n",
       "    </tr>\n",
       "    <tr>\n",
       "      <th>2</th>\n",
       "      <td>Potato and Fennel Soup Hodge</td>\n",
       "      <td>3.750</td>\n",
       "      <td>165.0</td>\n",
       "      <td>6.0</td>\n",
       "      <td>7.0</td>\n",
       "      <td>165.0</td>\n",
       "      <td>0.0</td>\n",
       "      <td>0.0</td>\n",
       "      <td>0.0</td>\n",
       "      <td>0.0</td>\n",
       "      <td>...</td>\n",
       "      <td>0.0</td>\n",
       "      <td>0.0</td>\n",
       "      <td>0.0</td>\n",
       "      <td>0.0</td>\n",
       "      <td>0.0</td>\n",
       "      <td>0.0</td>\n",
       "      <td>0.0</td>\n",
       "      <td>0.0</td>\n",
       "      <td>0.0</td>\n",
       "      <td>0.0</td>\n",
       "    </tr>\n",
       "  </tbody>\n",
       "</table>\n",
       "<p>3 rows × 680 columns</p>\n",
       "</div>"
      ],
      "text/plain": [
       "                                         title  rating  calories  protein  \\\n",
       "0              Lentil, Apple, and Turkey Wrap    2.500     426.0     30.0   \n",
       "1  Boudin Blanc Terrine with Red Onion Confit    4.375     403.0     18.0   \n",
       "2                Potato and Fennel Soup Hodge    3.750     165.0      6.0   \n",
       "\n",
       "    fat  sodium  #cakeweek  #wasteless  22-minute meals  3-ingredient recipes  \\\n",
       "0   7.0   559.0        0.0         0.0              0.0                   0.0   \n",
       "1  23.0  1439.0        0.0         0.0              0.0                   0.0   \n",
       "2   7.0   165.0        0.0         0.0              0.0                   0.0   \n",
       "\n",
       "   ...  yellow squash  yogurt  yonkers  yuca  zucchini  cookbooks  leftovers  \\\n",
       "0  ...            0.0     0.0      0.0   0.0       0.0        0.0        0.0   \n",
       "1  ...            0.0     0.0      0.0   0.0       0.0        0.0        0.0   \n",
       "2  ...            0.0     0.0      0.0   0.0       0.0        0.0        0.0   \n",
       "\n",
       "   snack  snack week  turkey  \n",
       "0    0.0         0.0     1.0  \n",
       "1    0.0         0.0     0.0  \n",
       "2    0.0         0.0     0.0  \n",
       "\n",
       "[3 rows x 680 columns]"
      ]
     },
     "execution_count": 101,
     "metadata": {},
     "output_type": "execute_result"
    }
   ],
   "source": [
    "df=pd.read_csv('data/epi_r.csv')\n",
    "df.head(3)"
   ]
  },
  {
   "cell_type": "code",
   "execution_count": 42,
   "id": "7244da9f",
   "metadata": {},
   "outputs": [
    {
     "data": {
      "text/plain": [
       "(20052, 680)"
      ]
     },
     "execution_count": 42,
     "metadata": {},
     "output_type": "execute_result"
    }
   ],
   "source": [
    "df.shape"
   ]
  },
  {
   "cell_type": "code",
   "execution_count": 4,
   "id": "f1b79911",
   "metadata": {},
   "outputs": [],
   "source": [
    "df=df.fillna(0) #fill null/NaN for 0"
   ]
  },
  {
   "cell_type": "code",
   "execution_count": 5,
   "id": "2be245c7",
   "metadata": {},
   "outputs": [],
   "source": [
    "df = df.drop_duplicates(subset=['title', 'rating'], keep='first')"
   ]
  },
  {
   "cell_type": "code",
   "execution_count": null,
   "id": "70420de6",
   "metadata": {},
   "outputs": [],
   "source": [
    "lst_df=list(df.columns)"
   ]
  },
  {
   "cell_type": "code",
   "execution_count": 7,
   "id": "1026d731",
   "metadata": {},
   "outputs": [
    {
     "data": {
      "text/plain": [
       "(18033, 306)"
      ]
     },
     "execution_count": 7,
     "metadata": {},
     "output_type": "execute_result"
    }
   ],
   "source": [
    "df_clean=df[['title', 'rating', 'calories', 'protein', 'fat', 'sodium', 'breakfast', 'lunch', 'dinner',\n",
    "             'almond','amaretto', 'anchovy', 'anise', 'apple', 'apple juice', 'apricot', 'artichoke', 'arugula', 'asian pear', \n",
    "            'asparagus', 'avocado', 'bacon', 'banana', 'barley', 'basil', 'bass', 'bean', 'beef', 'beef rib', 'beef shank',\n",
    "            'beef tenderloin', 'beer', 'bitters', 'blackberry', 'beet', 'bell pepper', 'blue cheese', 'blueberry', 'bourbon',\n",
    "            'bran', 'brandy','bread', 'breadcrumbs', 'brine', 'brisket', 'broccoli', 'broccoli rabe', 'brown rice',\n",
    "            'brussel sprout', 'bulgur', 'butter', 'buttermilk', 'butternut squash', 'butterscotch/caramel', 'cabbage',\n",
    "            'calvados', 'campari', 'candy', 'cantaloupe', 'capers', 'caraway', 'cardamom', 'carrot',  'cashew', 'cauliflower',\n",
    "            'caviar', 'celery', 'champagne', 'chard', 'chartreuse', 'cheddar', 'cheese', 'cherry', 'chestnut', 'chicken',\n",
    "            'chickpea', 'chile pepper', 'chili', 'chocolate', 'cilantro', 'cinnamon', 'clam', 'clove', 'coconut', 'cod',\n",
    "            'coffee', 'cognac/armagnac', 'collard greens', 'coriander', 'corn', 'cornmeal', 'cottage cheese', 'couscous',\n",
    "            'crab', 'cranberry', 'cranberry sauce', 'cream cheese', 'créme de cacao', 'cucumber', 'cumin', 'currant', 'curry',\n",
    "            'custard', 'dill', 'duck', 'eau de vie', 'egg', 'eggplant', 'endive', 'fennel', 'feta', 'fig', 'flat bread', \n",
    "            'fish', 'fontina', 'fortified wine', 'frangelico', 'garlic', 'gin', 'ginger', 'goat cheese', 'goose',\n",
    "            'gouda', 'granola', 'grape',  'grapefruit', 'green bean', 'green onion/scallion', 'ground beef', 'ground lamb', \n",
    "            'guava', 'halibut', 'ham', 'hazelnut', 'hominy/cornmeal/masa', 'honey', 'horseradish', 'hot pepper', 'ice cream',\n",
    "            'jalapeño', 'jerusalem artichoke', 'jícama', 'kahlúa', 'kirsch', 'kiwi', 'kumquat', 'lamb', 'lamb shank',\n",
    "             'leek', 'lemon', 'lemon juice', 'lemongrass', 'lentil', 'lettuce', 'lima bean', 'lime', 'lime juice',\n",
    "            'lingonberry', 'liqueur', 'lobster', 'lychee', 'macadamia nut', 'mango', 'maple syrup', 'marscarpone', \n",
    "            'marshmallow', 'martini', 'meat', 'melon', 'milk/cream', 'mint', 'molasses', 'mozzarella', 'mushroom', 'mussel',\n",
    "            'mustard', 'mustard greens', 'nectarine', 'noodle', 'nut', 'nutmeg', 'oat', 'oatmeal', 'octopus','okra', 'olive', \n",
    "             'onion', 'orange', 'orange juice', 'oregano', 'orzo', 'oyster', 'papaya', 'paprika', 'parmesan', 'parsley', \n",
    "            'passion fruit', 'pasta','pastry', 'pea', 'peach', 'peanut', 'peanut butter', 'pear', 'pepper', \n",
    "            'persimmon', 'pine nut', 'pineapple', 'pistachio', 'plum', 'poblano', 'pomegranate', 'pomegranate juice',\n",
    "            'pork', 'pork rib', 'pork tenderloin', 'potato', 'poultry', 'prosciutto', 'prune', 'pumpkin', 'quail',\n",
    "            'quince', 'quinoa', 'rabbit', 'rack of lamb', 'radicchio', 'radish', 'raisin', 'raspberry', 'rhubarb', 'red wine',\n",
    "            'rice', 'ricotta', 'rosemary', 'rum', 'rutabaga', 'rye', 'saffron', 'sage', 'sake', 'salad', 'salmon', 'salsa', \n",
    "            'sangria', 'sardine', 'sausage', 'scallop', 'scotch', 'seafood', 'semolina', 'shellfish',\n",
    "            'sesame', 'sesame oil', 'shallot', 'sherry', 'shrimp', 'snapper', 'sorbet', 'sour cream', 'soy', 'soy sauce',\n",
    "            'sparkling wine', 'spinach', 'squash', 'squid', 'strawberry', 'sugar snap pea', 'sweet potato/yam',            \n",
    "           'swiss cheese', 'swordfish', 'tamarind', 'tangerine', 'tapioca', 'tarragon', 'tea', 'tequila',\n",
    "            'thyme', 'tilapia', 'tofu', 'tomatillo', 'tomato', 'tortillas', 'tree nut', 'trout', 'tuna',\n",
    "            'turnip', 'vanilla', 'veal', 'venison', 'vermouth', 'vinegar', 'vodka',\n",
    "            'walnut', 'wasabi', 'watercress', 'watermelon', 'whiskey', 'white wine',  'whole wheat', 'wild rice',\n",
    "            'yellow squash', 'yogurt', 'yuca', 'zucchini', 'turkey']]\n",
    "df_clean.shape"
   ]
  },
  {
   "cell_type": "code",
   "execution_count": 8,
   "id": "58d168cf",
   "metadata": {},
   "outputs": [],
   "source": [
    "#correction of some columns for further usability\n",
    "df_clean=df_clean.rename(columns={'milk/cream': 'milk', \n",
    "                                'marscarpone':'mascarpone', \n",
    "                                'butterscotch/caramel':'caramel', \n",
    "                                'cognac/armagnac':'cognac',\n",
    "                                'green onion/scallion':'green onion', \n",
    "                                'hominy/cornmeal/masa':'cornmeal',\n",
    "                                'sweet potato/yam':'sweet potato',\n",
    "                                'jalapeño':'jalapeno',\n",
    "                                'jícama':'jicama', \n",
    "                                'kahlúa':'kahlua' })"
   ]
  },
  {
   "cell_type": "code",
   "execution_count": 9,
   "id": "94c586c0",
   "metadata": {},
   "outputs": [],
   "source": [
    "df_clean.to_csv('data/dataset_clean.csv', index='title')"
   ]
  },
  {
   "cell_type": "code",
   "execution_count": 10,
   "id": "fdacd44d",
   "metadata": {},
   "outputs": [],
   "source": [
    "# drop columns, which not required for rating forecast\n",
    "df_clean.drop(['title', 'calories', 'protein', 'fat', 'sodium', 'breakfast', 'lunch', 'dinner'], axis=1, inplace=True, errors='ignore')"
   ]
  },
  {
   "cell_type": "code",
   "execution_count": 51,
   "id": "afb33b47",
   "metadata": {},
   "outputs": [
    {
     "data": {
      "text/plain": [
       "(18033, 298)"
      ]
     },
     "execution_count": 51,
     "metadata": {},
     "output_type": "execute_result"
    }
   ],
   "source": [
    "df_clean.shape"
   ]
  },
  {
   "cell_type": "code",
   "execution_count": 11,
   "id": "8fb9b818",
   "metadata": {},
   "outputs": [
    {
     "data": {
      "text/plain": [
       "(17965, 298)"
      ]
     },
     "execution_count": 11,
     "metadata": {},
     "output_type": "execute_result"
    }
   ],
   "source": [
    "#drop raws without ingredients\n",
    "df_final = df_clean.T\n",
    "(df_final != 0).any(axis=0)\n",
    "df_final = df_final.loc[:, (df_final != 0).any(axis=0)]\n",
    "df_final = df_final.T\n",
    "df_final.shape"
   ]
  },
  {
   "cell_type": "code",
   "execution_count": 12,
   "id": "593433e3",
   "metadata": {},
   "outputs": [],
   "source": [
    "y = df_final['rating']\n",
    "df_final2 = df_final.copy()\n",
    "df_final2.drop('rating', axis=1, inplace=True, errors='ignore')\n",
    "X = df_final2"
   ]
  },
  {
   "cell_type": "code",
   "execution_count": 54,
   "id": "90886480",
   "metadata": {},
   "outputs": [],
   "source": [
    "X_train, X_test, y_train, y_test = train_test_split(X, y, \n",
    "                                                    test_size=0.2, random_state=21, stratify=y )"
   ]
  },
  {
   "cell_type": "markdown",
   "id": "8e2f69b9",
   "metadata": {},
   "source": [
    "## 1.2. Regression\n",
    "\n",
    "For rating forecast (in numeric format)  were tried differnt algorithms, ensembles and hyperparams, best decision was selected  based on cross_val\n",
    "For best decision RMSE was checked on test and compared with RMSE of naive forecast (based on average raiting)"
   ]
  },
  {
   "cell_type": "markdown",
   "id": "2bbb174a",
   "metadata": {},
   "source": [
    "### LinearRegression"
   ]
  },
  {
   "cell_type": "code",
   "execution_count": 55,
   "id": "8f963e24",
   "metadata": {},
   "outputs": [
    {
     "data": {
      "text/plain": [
       "GridSearchCV(cv=10, estimator=LinearRegression(), n_jobs=-1,\n",
       "             param_grid={'copy_X': [True, False],\n",
       "                         'fit_intercept': [True, False],\n",
       "                         'positive': [True, False]},\n",
       "             return_train_score=True)"
      ]
     },
     "execution_count": 55,
     "metadata": {},
     "output_type": "execute_result"
    }
   ],
   "source": [
    "# defining parameter range\n",
    "param_grid = {\"fit_intercept\": [True, False], \n",
    "              \"positive\": [True, False],\n",
    "              \"copy_X\": [True, False]} \n",
    "model_LR=LinearRegression() \n",
    "grid = GridSearchCV(model_LR, param_grid, n_jobs=-1, cv=10, return_train_score=True)\n",
    "  \n",
    "# fitting the model for grid search\n",
    "grid.fit(X_train, y_train)"
   ]
  },
  {
   "cell_type": "code",
   "execution_count": 56,
   "id": "10daf864",
   "metadata": {},
   "outputs": [
    {
     "name": "stdout",
     "output_type": "stream",
     "text": [
      "{'copy_X': True, 'fit_intercept': True, 'positive': True}\n",
      "LinearRegression(positive=True)\n"
     ]
    }
   ],
   "source": [
    "# print best parameter after tuning\n",
    "print(grid.best_params_)\n",
    "\n",
    "# print how our model looks after hyper-parameter tuning\n",
    "print(grid.best_estimator_)"
   ]
  },
  {
   "cell_type": "code",
   "execution_count": 66,
   "id": "89c76d83",
   "metadata": {},
   "outputs": [
    {
     "name": "stdout",
     "output_type": "stream",
     "text": [
      "Mean cross_val= 0.028235406316743306\n"
     ]
    }
   ],
   "source": [
    "LR_res=LinearRegression(positive=True).fit(X_train, y_train)\n",
    "print(f'Mean cross_val= {cross_val_score(LR_res, X_train, y_train, cv=10).mean()}')"
   ]
  },
  {
   "cell_type": "markdown",
   "id": "35a03432",
   "metadata": {},
   "source": [
    "### DecisionTreeRegressor"
   ]
  },
  {
   "cell_type": "code",
   "execution_count": 58,
   "id": "9b917a02",
   "metadata": {},
   "outputs": [
    {
     "name": "stdout",
     "output_type": "stream",
     "text": [
      "{'max_depth': 6, 'min_samples_split': 10, 'random_state': 21}\n",
      "DecisionTreeRegressor(max_depth=6, min_samples_split=10, random_state=21)\n"
     ]
    }
   ],
   "source": [
    "# defining parameter range\n",
    "param_grid_DT = {\"max_depth\": [5, 6, 7, 10], \n",
    "              \"min_samples_split\": [2, 4, 5, 10],\n",
    "              \"random_state\": [21]} \n",
    "model_DT=DecisionTreeRegressor() \n",
    "grid_DT = GridSearchCV(model_DT, param_grid_DT, n_jobs=-1, cv=10, return_train_score=True)\n",
    "  \n",
    "# fitting the model for grid search\n",
    "grid_DT.fit(X_train, y_train)\n",
    "# print best parameter after tuning\n",
    "print(grid_DT.best_params_)\n",
    "\n",
    "# print how our model looks after hyper-parameter tuning\n",
    "print(grid_DT.best_estimator_)"
   ]
  },
  {
   "cell_type": "code",
   "execution_count": 65,
   "id": "f0b450cf",
   "metadata": {},
   "outputs": [
    {
     "name": "stdout",
     "output_type": "stream",
     "text": [
      "Mean cross_val= 0.05015732402953488\n"
     ]
    }
   ],
   "source": [
    "DT_res=DecisionTreeRegressor(max_depth=6, min_samples_split=10, random_state=21).fit(X_train, y_train)\n",
    "print(f'Mean cross_val= {cross_val_score(DT_res, X_train, y_train, cv=10).mean()}')"
   ]
  },
  {
   "cell_type": "code",
   "execution_count": 72,
   "id": "2cd32dda",
   "metadata": {},
   "outputs": [
    {
     "name": "stdout",
     "output_type": "stream",
     "text": [
      "Mean Square Error = 1.6111656485120465\n",
      "Root Mean Square Error = 1.2693170007969035\n"
     ]
    }
   ],
   "source": [
    "#RMSE on test for best model\n",
    "y_pred_regres=DT_res.predict(X_test)\n",
    "MSE = mean_squared_error(y_test, y_pred_regres)\n",
    "RMSE = math.sqrt(MSE)\n",
    "print(f'Mean Square Error = {MSE}')\n",
    "print(f'Root Mean Square Error = {RMSE}')"
   ]
  },
  {
   "cell_type": "markdown",
   "id": "84666703",
   "metadata": {},
   "source": [
    "### Regression. Ensembles"
   ]
  },
  {
   "cell_type": "code",
   "execution_count": 60,
   "id": "19385bf1",
   "metadata": {},
   "outputs": [
    {
     "name": "stdout",
     "output_type": "stream",
     "text": [
      "{'max_depth': 10, 'random_state': 21}\n",
      "RandomForestRegressor(max_depth=10, random_state=21)\n"
     ]
    }
   ],
   "source": [
    "#RandomForestRegressor\n",
    "# defining parameter range\n",
    "param_grid_RF = {\"max_depth\": [5, 6, 7, 10, 20], \n",
    "                 \"random_state\": [21]} \n",
    "model_RF=RandomForestRegressor() \n",
    "grid_RF = GridSearchCV(model_RF, param_grid_RF, n_jobs=-1, cv=10, return_train_score=True)\n",
    "  \n",
    "# fitting the model for grid search\n",
    "grid_RF.fit(X_train, y_train)\n",
    "# print best parameter after tuning\n",
    "print(grid_RF.best_params_)\n",
    "\n",
    "# print how our model looks after hyper-parameter tuning\n",
    "print(grid_RF.best_estimator_)"
   ]
  },
  {
   "cell_type": "code",
   "execution_count": 64,
   "id": "19772c2b",
   "metadata": {},
   "outputs": [
    {
     "name": "stdout",
     "output_type": "stream",
     "text": [
      "Mean cross_val= 0.07131909334052541\n"
     ]
    }
   ],
   "source": [
    "RF_res=RandomForestRegressor(max_depth=10, random_state=21).fit(X_train, y_train)\n",
    "print(f'Mean cross_val= {cross_val_score(RF_res, X_train, y_train, cv=10).mean()}')"
   ]
  },
  {
   "cell_type": "code",
   "execution_count": 67,
   "id": "60669d1a",
   "metadata": {},
   "outputs": [],
   "source": [
    "VotReg = VotingRegressor(estimators=[('lr', LR_res), ('dt', DT_res), ('rf', RF_res)], \n",
    "                         n_jobs=-1)\n",
    "VotReg = VotReg.fit(X_train, y_train)"
   ]
  },
  {
   "cell_type": "code",
   "execution_count": 68,
   "id": "a79fef9e",
   "metadata": {},
   "outputs": [
    {
     "name": "stdout",
     "output_type": "stream",
     "text": [
      "Mean cross_val= 0.0774968623459123\n"
     ]
    }
   ],
   "source": [
    "print(f'Mean cross_val= {cross_val_score(VotReg, X_train, y_train, cv=10).mean()}')"
   ]
  },
  {
   "cell_type": "code",
   "execution_count": 69,
   "id": "b991dc19",
   "metadata": {},
   "outputs": [
    {
     "name": "stdout",
     "output_type": "stream",
     "text": [
      "Mean cross_val= 0.07409783754718467\n"
     ]
    }
   ],
   "source": [
    "BagReg=BaggingRegressor(base_estimator=RandomForestRegressor(max_depth=20, random_state=21),\n",
    "                        n_estimators=20, random_state=21, n_jobs=-1).fit(X_train, y_train)\n",
    "print(f'Mean cross_val= {cross_val_score(BagReg, X_train, y_train, cv=10).mean()}')"
   ]
  },
  {
   "cell_type": "code",
   "execution_count": 70,
   "id": "806273cc",
   "metadata": {},
   "outputs": [
    {
     "name": "stdout",
     "output_type": "stream",
     "text": [
      "Mean cross_val= 0.07395881514427825\n"
     ]
    }
   ],
   "source": [
    "BagReg2=BaggingRegressor(base_estimator=RandomForestRegressor(max_depth=20, random_state=21),\n",
    "                        n_estimators=15, random_state=21, n_jobs=-1).fit(X_train, y_train)\n",
    "print(f'Mean cross_val= {cross_val_score(BagReg2, X_train, y_train, cv=10).mean()}')"
   ]
  },
  {
   "cell_type": "code",
   "execution_count": 73,
   "id": "c4f832ac",
   "metadata": {},
   "outputs": [
    {
     "name": "stdout",
     "output_type": "stream",
     "text": [
      "Mean cross_val= -1.008895231624001\n"
     ]
    }
   ],
   "source": [
    "StackReg = StackingRegressor(estimators=[('lr', LR_res), ('dt', DT_res), ('rf', RF_res)], \n",
    "                         final_estimator=DecisionTreeRegressor(),\n",
    "                         n_jobs=14).fit(X_train, y_train)\n",
    "print(f'Mean cross_val= {cross_val_score(StackReg, X_train, y_train, cv=10).mean()}')"
   ]
  },
  {
   "cell_type": "code",
   "execution_count": 74,
   "id": "93a23b2e",
   "metadata": {},
   "outputs": [
    {
     "name": "stdout",
     "output_type": "stream",
     "text": [
      "Mean cross_val= -0.13687234612392365\n"
     ]
    }
   ],
   "source": [
    "StackReg2 = StackingRegressor(estimators=[('lr', LR_res), ('dt', DT_res), ('rf', RF_res)], \n",
    "                         final_estimator=RandomForestRegressor(n_estimators=10,\n",
    "                                       random_state=21),\n",
    "                         n_jobs=14).fit(X_train, y_train)\n",
    "print(f'Mean cross_val= {cross_val_score(StackReg2, X_train, y_train, cv=10).mean()}')\n"
   ]
  },
  {
   "cell_type": "code",
   "execution_count": 76,
   "id": "343c05cc",
   "metadata": {},
   "outputs": [
    {
     "name": "stdout",
     "output_type": "stream",
     "text": [
      "Mean Square Error = 1.577620066336274\n",
      "Root Mean Square Error = 1.2560334654523637\n"
     ]
    }
   ],
   "source": [
    "#RMSE on test for best ensemble\n",
    "y_pred_regres_ens=VotReg.predict(X_test)\n",
    "MSE = mean_squared_error(y_test, y_pred_regres_ens)\n",
    "RMSE = math.sqrt(MSE)\n",
    "print(f'Mean Square Error = {MSE}')\n",
    "print(f'Root Mean Square Error = {RMSE}')"
   ]
  },
  {
   "cell_type": "markdown",
   "id": "d1d52cd5",
   "metadata": {},
   "source": [
    "### Regression: naive forecast"
   ]
  },
  {
   "cell_type": "code",
   "execution_count": 77,
   "id": "0a7a4c03",
   "metadata": {},
   "outputs": [],
   "source": [
    "y_mean = y_train.mean()\n",
    "y_naive_test = [y_mean for i in range(len(y_test))]"
   ]
  },
  {
   "cell_type": "code",
   "execution_count": 79,
   "id": "391f7490",
   "metadata": {},
   "outputs": [
    {
     "name": "stdout",
     "output_type": "stream",
     "text": [
      "Mean Square Error naive = 1.7172816942002065\n",
      "Root Mean Square Error naive = 1.3104509507036906\n"
     ]
    }
   ],
   "source": [
    "MSE = mean_squared_error(y_test, y_naive_test)\n",
    "RMSE = math.sqrt(MSE)\n",
    "print(f'Mean Square Error naive = {MSE}')\n",
    "print(f'Root Mean Square Error naive = {RMSE}')\n"
   ]
  },
  {
   "cell_type": "markdown",
   "id": "f0551c51",
   "metadata": {},
   "source": [
    "Colclusion: Metrics of regression is too low, closed to naive forecast. \n",
   
   ]
  },
  {
   "cell_type": "markdown",
   "id": "fbc69e2a",
   "metadata": {},
   "source": [
    "## 1.3. Classifiaction\n",
    "\n",
    "Metrics of regression is too low.\n",
    "What if we will predict not raiting, but class as closed integer of raiting?.\n",
    "For best decision RMSE was checked on test and compared with RMSE of  forecast (based on average raiting)"
    "I have tried below differnt algorithms, ensembles and hyperparams.\n",
    "best decision was selected  based on cross_val and  accuracy was checked on test.\n",
    "\n",
    "Also for comparison accuracy was calculcted for naive prediction (most popular class is predicted for all).\n"
   ]
  },
  {
   "cell_type": "markdown",
   "id": "aa28b41f",
   "metadata": {},
   "source": [
    "## Classification: classes as integers"
   ]
  },
  {
   "cell_type": "code",
   "execution_count": 13,
   "id": "8d8320cd",
   "metadata": {},
   "outputs": [],
   "source": [
    "y2 = y.round(0).astype(int)\n",
    "X2 = X.copy()"
   ]
  },
  {
   "cell_type": "code",
   "execution_count": 81,
   "id": "96bc6a9d",
   "metadata": {},
   "outputs": [],
   "source": [
    "X2_train, X2_test, y2_train, y2_test = train_test_split(X2, y2, \n",
    "                                                    test_size=0.2, random_state=21, stratify=y2 )"
   ]
  },
  {
   "cell_type": "markdown",
   "id": "e81a13b7",
   "metadata": {},
   "source": [
    "For gridsearch для decision tree and random forest will be used follow class:"
   ]
  },
  {
   "cell_type": "code",
   "execution_count": 87,
   "id": "3218b77b",
   "metadata": {},
   "outputs": [],
   "source": [
    "class ModelSelection():\n",
    "     \n",
    "    def __init__(self, grids, grid_dict):\n",
    "        self.grids = grids\n",
    "        self.grid_dict = grid_dict        \n",
    "        \n",
    "    def choose(self, X2_train, y2_train):      \n",
    "        max_valid_score=0\n",
    "        for i in range(len(grids)):\n",
    "            with tqdm(ParameterGrid(grids[i].param_grid)) as pbar:\n",
    "                time.sleep(0.05) #counter\n",
    "                pbar.update(1) 
    "                grid=grids[i]\n",
    "                grid.fit(X2_train, y2_train)\n",
    "                print(f'Estimator: {grid_dict[i]}')\n",
    "                print(f'Best params: {grid.best_params_}')                       \n",
    "                \n",
    "       "
   ]
  },
  {
   "cell_type": "code",
   "execution_count": 88,
   "id": "4874ee2c",
   "metadata": {},
   "outputs": [
    {
     "name": "stderr",
     "output_type": "stream",
     "text": [
      "  1%|▍                                                                               | 1/196 [00:34<1:53:03, 34.78s/it]\n"
     ]
    },
    {
     "name": "stdout",
     "output_type": "stream",
     "text": [
      "Estimator: Decision Tree\n",
      "Best params: {'class_weight': None, 'criterion': 'entropy', 'max_depth': 1, 'random_state': 21}\n"
     ]
    },
    {
     "name": "stderr",
     "output_type": "stream",
     "text": [
      "  0%|                                                                              | 1/784 [06:27<84:13:50, 387.27s/it]"
     ]
    },
    {
     "name": "stdout",
     "output_type": "stream",
     "text": [
      "Estimator: Random Forest\n",
      "Best params: {'class_weight': None, 'criterion': 'entropy', 'max_depth': 26, 'n_estimators': 100, 'random_state': 21}\n"
     ]
    },
    {
     "name": "stderr",
     "output_type": "stream",
     "text": [
      "\n"
     ]
    }
   ],
   "source": [
    "tree_params = {\"max_depth\": range(1, 50),              \n",
    "              \"class_weight\": ['balanced', None],\n",
    "              \"criterion\": ['entropy', 'gini'],\n",
    "             \"random_state\": [21]}\n",
    "rf_params = {\"n_estimators\": [5, 10, 50, 100],\n",
    "              \"max_depth\": range(1, 50),                                  \n",
    "              \"class_weight\": ['balanced', None],\n",
    "              \"criterion\": ['entropy', 'gini'],\n",
    "           \"random_state\": [21]}\n",
    "#for svm  calculation was performed separately due to time-consuming \n",
    "\n",
    "gs_tree= GridSearchCV(estimator=DecisionTreeClassifier(), param_grid=tree_params, n_jobs=-1, cv=5)\n",
    "gs_rf = GridSearchCV(estimator=RandomForestClassifier(), param_grid=rf_params, n_jobs=-1, cv=5)\n",
    "\n",
    "grids = [gs_tree, gs_rf]\n",
    "grid_dict={0:'Decision Tree', 1:'Random Forest'}\n",
    "\n",
    "selector=ModelSelection(grids, grid_dict)\n",
    "result=selector.choose(X2_train, y2_train)\n",
    "result"
   ]
  },
  {
   "cell_type": "code",
   "execution_count": 89,
   "id": "6c60b46e",
   "metadata": {},
   "outputs": [
    {
     "name": "stdout",
     "output_type": "stream",
     "text": [
      "Mean_cross_val= 0.6742277328976432\n"
     ]
    }
   ],
   "source": [
    "clf_DT = DecisionTreeClassifier(max_depth=1, criterion='entropy', class_weight=None, random_state=21).fit(X2_train, y2_train)\n",
    "print(f'Mean_cross_val= {cross_val_score(clf_DT, X2_train, y2_train, cv=5).mean()}')"
   ]
  },
  {
   "cell_type": "code",
   "execution_count": 94,
   "id": "ff877c62",
   "metadata": {},
   "outputs": [
    {
     "name": "stdout",
     "output_type": "stream",
     "text": [
      "Mean_cross_val= 0.6778458745575021\n"
     ]
    }
   ],
   "source": [
    "clf_RF = RandomForestClassifier(max_depth=26, criterion='entropy', \n",
    "                                class_weight=None, random_state=21).fit(X2_train, y2_train)\n",
    "print(f'Mean_cross_val= {cross_val_score(clf_RF, X2_train, y2_train, cv=5).mean()}')"
   ]
  },
  {
   "cell_type": "markdown",
   "id": "1a9d18b1",
   "metadata": {},
   "source": [
    "Gridsearch для SVM"
   ]
  },
  {
   "cell_type": "code",
   "execution_count": 91,
   "id": "b0987c22",
   "metadata": {},
   "outputs": [
    {
     "name": "stdout",
     "output_type": "stream",
     "text": [
      "{'gamma': 'scale', 'probability': True, 'random_state': 21}\n",
      "SVC(probability=True, random_state=21)\n"
     ]
    }
   ],
   "source": [
    "# defining parameter range\n",
    "svm_params = { \"gamma\": ['scale', 'auto'],\n",
    "               \"random_state\":[21],\n",
    "              \"probability\": [True]} \n",
    "clf_svm_grid = GridSearchCV(estimator=SVC(), param_grid=svm_params, n_jobs=-1, cv=5)\n",
    "\n",
    "# fitting the model for grid search\n",
    "clf_svm_grid.fit(X2_train, y2_train)\n",
    "\n",
    "# print best parameter after tuning\n",
    "print(clf_svm_grid.best_params_)\n",
    "\n",
    "# print how our model looks after hyper-parameter tuning\n",
    "print(clf_svm_grid.best_estimator_)"
   ]
  },
  {
   "cell_type": "code",
   "execution_count": 92,
   "id": "a2bd7148",
   "metadata": {},
   "outputs": [
    {
     "name": "stdout",
     "output_type": "stream",
     "text": [
      "Mean_cross_val= 0.6787505456333363\n"
     ]
    }
   ],
   "source": [
    "clf_svc = SVC(gamma='scale', probability=True, random_state=21).fit(X2_train, y2_train)\n",
    "print(f'Mean_cross_val= {cross_val_score(clf_svc, X2_train, y2_train, cv=10).mean()}')"
   ]
  },
  {
   "cell_type": "markdown",
   "id": "2f657648",
   "metadata": {},
   "source": [
    "LogisticRegression"
   ]
  },
  {
   "cell_type": "code",
   "execution_count": 95,
   "id": "73ce1557",
   "metadata": {},
   "outputs": [
    {
     "name": "stdout",
     "output_type": "stream",
     "text": [
      "{'fit_intercept': True, 'random_state': 21, 'solver': 'liblinear'}\n",
      "LogisticRegression(random_state=21, solver='liblinear')\n"
     ]
    }
   ],
   "source": [
    "# defining parameter range\n",
    "param_grid = {\"fit_intercept\": [True, False], \n",
    "              \"random_state\": [21],\n",
    "              \"solver\": ['liblinear']} \n",
    "model_CLR=LogisticRegression() \n",
    "grid = GridSearchCV(model_CLR, param_grid, n_jobs=-1, cv=10, return_train_score=True)\n",
    "  \n",
    "# fitting the model for grid search\n",
    "grid.fit(X2_train, y2_train)\n",
    "\n",
    "# print best parameter after tuning\n",
    "print(grid.best_params_)\n",
    "\n",
    "# print how our model looks after hyper-parameter tuning\n",
    "print(grid.best_estimator_)"
   ]
  },
  {
   "cell_type": "code",
   "execution_count": 96,
   "id": "6af80bd2",
   "metadata": {},
   "outputs": [
    {
     "name": "stdout",
     "output_type": "stream",
     "text": [
      "Mean_cross_val= 0.6775677674184066\n"
     ]
    }
   ],
   "source": [
    "CLR_res=LogisticRegression(random_state=21, solver='liblinear').fit(X2_train, y2_train)\n",
    "print(f'Mean_cross_val= {cross_val_score(CLR_res, X2_train, y2_train, cv=10).mean()}')"
   ]
  },
  {
   "cell_type": "markdown",
   "id": "805491c1",
   "metadata": {},
   "source": [
    "Best decision based on cross_val and accuracy check on test."
   ]
  },
  {
   "cell_type": "code",
   "execution_count": 97,
   "id": "35803b3d",
   "metadata": {},
   "outputs": [
    {
     "name": "stdout",
     "output_type": "stream",
     "text": [
      "Accuracy on test: 0.6774283328694685\n"
     ]
    }
   ],
   "source": [
    "best_model=clf_svc\n",
    "print(f'Accuracy on test: {best_model.score(X2_test, y2_test)}')"
   ]
  },
  {
   "cell_type": "markdown",
   "id": "0c1f9d7a",
   "metadata": {},
   "source": [
    "Naive forecat for classification (most popular class predicted for all)"
   ]
  },
  {
   "cell_type": "code",
   "execution_count": 98,
   "id": "0ac0e4c7",
   "metadata": {},
   "outputs": [],
   "source": [
    "y2_naive = y2_train.value_counts(ascending=False).index[0] \n",
    "y2_naive_pred = [y2_naive for i in range(len(y2_test))]"
   ]
  },
  {
   "cell_type": "code",
   "execution_count": 99,
   "id": "969176be",
   "metadata": {},
   "outputs": [
    {
     "name": "stdout",
     "output_type": "stream",
     "text": [
      "Accuracy of naive prediction is 0.6671305315892012\n"
     ]
    }
   ],
   "source": [
    "accuracy_naive =accuracy_score(y2_test, y2_naive_pred)\n",
    "print(f'Accuracy of naive prediction is {(accuracy_naive)}')"
   ]
  },
  {
   "cell_type": "markdown",
   "id": "4dd42d77",
   "metadata": {},
   "source": [
    "Conclusion: Accuracy for best decision a litle above of naive forecast"
   ]
  },
  {
   "cell_type": "markdown",
   "id": "cbb27b8b",
   "metadata": {},
   "source": [
    "## Classification: classes as bad, so-so, great"
   ]
  },
  {
   "cell_type": "markdown",
   "id": "c889c500",
   "metadata": {},
   "source": [
    "Binarisation for y: integers to classesba bad (0, 1), so-so (2, 3), great (4, 5).\n",
    "\n",    
    "Also I have tried below differnt algorithms, ensembles and hyperparams. Best decision was selected  based on cross_val and  accuracy was checked on test\n",
    "\n",
    "Also for comparison accuracy was calculcted for naive prediction (most popular class is predicted for all).\n"
    ]
  },
  {
   "cell_type": "code",
   "execution_count": 14,
   "id": "aa818f56",
   "metadata": {},
   "outputs": [],
   "source": [
    "y3 = y2.map({0: 'bad', 1: 'bad', 2: 'so-so', 3: 'so-so', 4: 'great', 5: 'great'}) \n",
    "X3 = X2.copy()"
   ]
  },
  {
   "cell_type": "code",
   "execution_count": 15,
   "id": "5dc62906",
   "metadata": {},
   "outputs": [],
   "source": [
    "X3_train, X3_test, y3_train, y3_test = train_test_split(X3, y3, \n",
    "                                                    test_size=0.2, random_state=21, stratify=y )"
   ]
  },
  {
   "cell_type": "markdown",
   "id": "d83f600b",
   "metadata": {},
   "source": [
    "For gridsearch for decision tree and random forest also own class was used:"
   ]
  },
  {
   "cell_type": "code",
   "execution_count": 103,
   "id": "1934adf8",
   "metadata": {},
   "outputs": [],
   "source": [
    "class ModelSelection2():\n",
    "     \n",
    "    def __init__(self, grids, grid_dict):\n",
    "        self.grids = grids\n",
    "        self.grid_dict = grid_dict        \n",
    "        \n",
    "    def choose(self, X3_train, y3_train):      \n",
    "        max_valid_score=0\n",
    "        for i in range(len(grids)):           \n",
    "            with tqdm(ParameterGrid(grids[i].param_grid)) as pbar:\n",
    "                time.sleep(0.05) # counter\n",
    "                pbar.update(1) 
    "                grid=grids[i]\n",
    "                grid.fit(X3_train, y3_train)\n",
    "                print(f'Estimator: {grid_dict[i]}')\n",
    "                print(f'Best params: {grid.best_params_}')  "
   ]
  },
  {
   "cell_type": "code",
   "execution_count": 104,
   "id": "8e5190c9",
   "metadata": {},
   "outputs": [
    {
     "name": "stderr",
     "output_type": "stream",
     "text": [
      "  1%|▍                                                                               | 1/196 [00:37<2:00:31, 37.09s/it]\n"
     ]
    },
    {
     "name": "stdout",
     "output_type": "stream",
     "text": [
      "Estimator: Decision Tree\n",
      "Best params: {'class_weight': None, 'criterion': 'gini', 'max_depth': 2, 'random_state': 21}\n"
     ]
    },
    {
     "name": "stderr",
     "output_type": "stream",
     "text": [
      "  0%|                                                                              | 1/784 [06:21<82:57:44, 381.44s/it]"
     ]
    },
    {
     "name": "stdout",
     "output_type": "stream",
     "text": [
      "Estimator: Random Forest\n",
      "Best params: {'class_weight': None, 'criterion': 'entropy', 'max_depth': 27, 'n_estimators': 100, 'random_state': 21}\n"
     ]
    },
    {
     "name": "stderr",
     "output_type": "stream",
     "text": [
      "\n"
     ]
    }
   ],
   "source": [
    "tree_params = {\"max_depth\": range(1, 50),              \n",
    "              \"class_weight\": ['balanced', None],\n",
    "              \"criterion\": ['entropy', 'gini'],\n",
    "             \"random_state\": [21]}\n",
    "rf_params = {\"n_estimators\": [5, 10, 50, 100],\n",
    "              \"max_depth\": range(1, 50),                                  \n",
    "              \"class_weight\": ['balanced', None],\n",
    "              \"criterion\": ['entropy', 'gini'],\n",
    "           \"random_state\": [21]}\n",
    "\n",
    "gs_tree= GridSearchCV(estimator=DecisionTreeClassifier(), param_grid=tree_params, n_jobs=14, cv=5)\n",
    "gs_rf = GridSearchCV(estimator=RandomForestClassifier(), param_grid=rf_params, n_jobs=14, cv=5)\n",
    "\n",
    "grids = [gs_tree, gs_rf]\n",
    "grid_dict={0:'Decision Tree', 1:'Random Forest'}\n",
    "\n",
    "selector=ModelSelection2(grids, grid_dict)\n",
    "result=selector.choose(X3_train, y3_train)\n",
    "result"
   ]
  },
  {
   "cell_type": "code",
   "execution_count": 105,
   "id": "a3c52620",
   "metadata": {},
   "outputs": [
    {
     "name": "stdout",
     "output_type": "stream",
     "text": [
      "Mean_cross_val= 0.8040636107833349\n"
     ]
    }
   ],
   "source": [
    "clf_DT2 = DecisionTreeClassifier(max_depth=2, criterion='gini', class_weight=None, random_state=21).fit(X3_train, y3_train)\n",
    "print(f'Mean_cross_val= {cross_val_score(clf_DT2, X3_train, y3_train, cv=5).mean()}')"
   ]
  },
  {
   "cell_type": "code",
   "execution_count": 106,
   "id": "21c7f7c5",
   "metadata": {},
   "outputs": [
    {
     "name": "stdout",
     "output_type": "stream",
     "text": [
      "Mean_cross_val= 0.8053856645789841\n"
     ]
    }
   ],
   "source": [
    "clf_RF2 = RandomForestClassifier(n_estimators=100, max_depth=27, criterion='entropy', \n",
    "                                 class_weight=None, random_state=21).fit(X3_train, y3_train)\n",
    "print(f'Mean_cross_val= {cross_val_score(clf_RF2, X3_train, y3_train, cv=5).mean()}')"
   ]
  },
  {
   "cell_type": "markdown",
   "id": "94fc58c0",
   "metadata": {},
   "source": [
    "Gridsearch для SVM"
   ]
  },
  {
   "cell_type": "code",
   "execution_count": 107,
   "id": "86252810",
   "metadata": {},
   "outputs": [
    {
     "name": "stdout",
     "output_type": "stream",
     "text": [
      "{'class_weight': None, 'probability': True, 'random_state': 21}\n",
      "SVC(probability=True, random_state=21)\n"
     ]
    }
   ],
   "source": [
    "# defining parameter range\n",
    "svm_params2 = {\"class_weight\": ['balanced', None],\n",
    "              \"random_state\":[21],\n",
    "              \"probability\": [True]} \n",
    "clf_svm_grid2 = GridSearchCV(estimator=SVC(), param_grid=svm_params2, n_jobs=-1, cv=3)\n",
    "\n",
    "# fitting the model for grid search\n",
    "clf_svm_grid2.fit(X3_train, y3_train)\n",
    "\n",
    "# print best parameter after tuning\n",
    "print(clf_svm_grid2.best_params_)\n",
    "\n",
    "# print how our model looks after hyper-parameter tuning\n",
    "print(clf_svm_grid2.best_estimator_)"
   ]
  },
  {
   "cell_type": "code",
   "execution_count": 109,
   "id": "c5b570d0",
   "metadata": {},
   "outputs": [
    {
     "name": "stdout",
     "output_type": "stream",
     "text": [
      "Cреднее cross_val= 0.8050377900819946\n"
     ]
    }
   ],
   "source": [
    "clf_svm2 = SVC(class_weight=None, probability=True, random_state=21).fit(X3_train, y3_train)\n",
    "print(f'Cреднее cross_val= {cross_val_score(clf_svm2, X3_train, y3_train, cv=5).mean()}')"
   ]
  },
  {
   "cell_type": "markdown",
   "id": "06185ee9",
   "metadata": {},
   "source": [
    "Best decision based on cross_val and accuracy was checked on test."
   ]
  },
  {
   "cell_type": "code",
   "execution_count": 110,
   "id": "aef78094",
   "metadata": {},
   "outputs": [
    {
     "name": "stdout",
     "output_type": "stream",
     "text": [
      "Accuracy on test: 0.8054550514890064\n"
     ]
    }
   ],
   "source": [
    "best_model2=clf_RF2\n",
    "print(f'Accuracy on test: {best_model2.score(X3_test, y3_test)}')"
   ]
  },
  {
   "cell_type": "markdown",
   "id": "7b7a87fe",
   "metadata": {},
   "source": [
    "Наивный алгоритм для классификации (для всех наблюдений спрогнозирован самый популярный класс)"
   ]
  },
  {
   "cell_type": "code",
   "execution_count": 111,
   "id": "c3dc9e41",
   "metadata": {},
   "outputs": [],
   "source": [
    "y3_naive = y3_train.value_counts(ascending=False).index[0] \n",
    "y3_naive_pred = [y3_naive for i in range(len(y3_test))]"
   ]
  },
  {
   "cell_type": "code",
   "execution_count": 112,
   "id": "5246aabd",
   "metadata": {},
   "outputs": [
    {
     "name": "stdout",
     "output_type": "stream",
     "text": [
      "Accuracy of naive prediction is 0.7979404397439466\n"
     ]
    }
   ],
   "source": [
    "accuracy_naive =accuracy_score(y3_test, y3_naive_pred)\n",
    "print(f'Accuracy of naive prediction is {(accuracy_naive)}')"
   ]
  },
  {
   "cell_type": "markdown",
   "id": "8c084b66",
   "metadata": {},
   "source": [
    "Вывод по данной части: Accuracy лучшей модели классификации в данном случае только чуть выше, чем у наивного алгоритма, \n",
    "но при этом сам показатель в выше, чем в случае с прогнозированием классов как целых чисел"
   ]
  },
  {
   "cell_type": "markdown",
   "id": "3a5b002b",
   "metadata": {},
   "source": [
    "## Выбор новой метрики и подбор модели по ней"
   ]
  },
  {
   "cell_type": "markdown",
   "id": "4b32b895",
   "metadata": {},
   "source": [
    "Что хуже: спрогнозировать плохой рейтинг, который на самом деле окажется хорошим, или спрогнозировать хороший рейтинг, который на самом деле окажется плохим? Замените метрику accuracy другой соответствующей метрикой."
   ]
  },
  {
   "cell_type": "markdown",
   "id": "eb4f14e8",
   "metadata": {},
   "source": [
    "## На мой взгляд, хуже спрогнозировать хороший рейтинг, который на самом деле окажется плохим. Поэтому лучше использовать метрику precision, в частности в классе great.\n",
    "Далее снова попробую разные модели/ансамбли и их соответствующие гиперпараметры.\n",
    "А так как класс great самый распростаненный (подавляющее большинство), то сначала отбирала алгоритмы по самому высокому показателю средвевзешенного precision, а уже среди них тот, в котором наиболее высокий precision именно по классу great.\n",
    "Для лучшей модели/ансамбля считаю метрику на тестовой выборке."
   ]
  },
  {
   "cell_type": "markdown",
   "id": "de73cc14",
   "metadata": {},
   "source": [
    "DecisionTree"
   ]
  },
  {
   "cell_type": "code",
   "execution_count": 114,
   "id": "9a837546",
   "metadata": {},
   "outputs": [
    {
     "name": "stdout",
     "output_type": "stream",
     "text": [
      "precision is  0.70949\n"
     ]
    }
   ],
   "source": [
    "clf_DT3 = DecisionTreeClassifier(max_depth=1, criterion='entropy', \n",
    "                                class_weight='balanced', random_state=21).fit(X3_train, y3_train)\n",
    "y3_pred_tr=clf_DT3.predict(X3_train)\n",
    "print('precision is ', round(precision_score(y3_train, y3_pred_tr, average='weighted'), 5))"
   ]
  },
  {
   "cell_type": "code",
   "execution_count": 159,
   "id": "46ad9fff",
   "metadata": {},
   "outputs": [
    {
     "name": "stdout",
     "output_type": "stream",
     "text": [
      "precision is  0.84139\n"
     ]
    }
   ],
   "source": [
    "clf_DT4 = DecisionTreeClassifier(max_depth=50, criterion='entropy', \n",
    "                                class_weight='balanced', random_state=21).fit(X3_train, y3_train)\n",
    "y3_pred_tr=clf_DT4.predict(X3_train)\n",
    "print('precision is ', round(precision_score(y3_train, y3_pred_tr, average='weighted'), 5))"
   ]
  },
  {
   "cell_type": "markdown",
   "id": "5e49d22b",
   "metadata": {},
   "source": [
    "Random Forest"
   ]
  },
  {
   "cell_type": "code",
   "execution_count": 115,
   "id": "401ada23",
   "metadata": {},
   "outputs": [
    {
     "name": "stdout",
     "output_type": "stream",
     "text": [
      "precision is  0.6718\n"
     ]
    }
   ],
   "source": [
    "clf_RF3 = RandomForestClassifier(n_estimators=5, max_depth=1, criterion='entropy',\n",
    "                                 class_weight='balanced', random_state=21).fit(X3_train, y3_train)\n",
    "y3_pred_tr=clf_RF3.predict(X3_train)\n",
    "print('precision is ', round(sklearn.metrics.precision_score(y3_train, y3_pred_tr, average='weighted'), 5))"
   ]
  },
  {
   "cell_type": "code",
   "execution_count": 135,
   "id": "208da19f",
   "metadata": {},
   "outputs": [
    {
     "name": "stdout",
     "output_type": "stream",
     "text": [
      "precision is  0.91551\n"
     ]
    }
   ],
   "source": [
    "clf_RF4 = RandomForestClassifier(n_estimators=100, max_depth=49, criterion='entropy',\n",
    "                                 class_weight='balanced', random_state=21).fit(X3_train, y3_train)\n",
    "y3_pred_rf=clf_RF4.predict(X3_train)\n",
    "print('precision is ', round(sklearn.metrics.precision_score(y3_train, y3_pred_rf, average='weighted'), 5))"
   ]
  },
  {
   "cell_type": "code",
   "execution_count": 158,
   "id": "b9dd953a",
   "metadata": {},
   "outputs": [
    {
     "name": "stdout",
     "output_type": "stream",
     "text": [
      "precision is  0.92977\n"
     ]
    }
   ],
   "source": [
    "clf_RF5 = RandomForestClassifier(n_estimators=100, max_depth=120, criterion='entropy',\n",
    "                                 class_weight='balanced', random_state=21).fit(X3_train, y3_train)\n",
    "y3_pred_rf=clf_RF5.predict(X3_train)\n",
    "print('precision is ', round(sklearn.metrics.precision_score(y3_train, y3_pred_rf, average='weighted'), 5))"
   ]
  },
  {
   "cell_type": "code",
   "execution_count": 23,
   "id": "65dcf0c7",
   "metadata": {},
   "outputs": [
    {
     "name": "stdout",
     "output_type": "stream",
     "text": [
      "precision is  0.95204\n"
     ]
    }
   ],
   "source": [
    "clf_RF6 = RandomForestClassifier(n_estimators=150, max_depth=150, max_features=120, \n",
    "                                 random_state=21).fit(X3_train, y3_train)\n",
    "y3_pred_rf=clf_RF6.predict(X3_train)\n",
    "print('precision is ', round(sklearn.metrics.precision_score(y3_train, y3_pred_rf, average='weighted'), 5))"
   ]
  },
  {
   "cell_type": "markdown",
   "id": "f134b018",
   "metadata": {},
   "source": [
    "Gridsearch для SVM"
   ]
  },
  {
   "cell_type": "code",
   "execution_count": 118,
   "id": "8ab312b9",
   "metadata": {},
   "outputs": [
    {
     "name": "stdout",
     "output_type": "stream",
     "text": [
      "{'gamma': 'scale', 'probability': True, 'random_state': 21}\n",
      "SVC(probability=True, random_state=21)\n"
     ]
    }
   ],
   "source": [
    "# defining parameter range\n",
    "svm_params3 = { \"gamma\": ['scale', 'auto'],\n",
    "               \"random_state\":[21],\n",
    "              \"probability\": [True]} \n",
    "clf_svm_grid3 = GridSearchCV(estimator=SVC(), param_grid=svm_params3, n_jobs=-1, scoring='average_precision')\n",
    "\n",
    "# fitting the model for grid search\n",
    "clf_svm_grid3.fit(X3_train, y3_train)\n",
    "\n",
    "# print best parameter after tuning\n",
    "print(clf_svm_grid3.best_params_)\n",
    "\n",
    "# print how our model looks after hyper-parameter tuning\n",
    "print(clf_svm_grid3.best_estimator_)"
   ]
  },
  {
   "cell_type": "code",
   "execution_count": 117,
   "id": "60903f2d",
   "metadata": {},
   "outputs": [
    {
     "name": "stdout",
     "output_type": "stream",
     "text": [
      "precision is  0.83395\n"
     ]
    }
   ],
   "source": [
    "clf_svm3= SVC(gamma='scale', probability=True, random_state=21).fit(X3_train, y3_train)\n",
    "y3_pred_tr=clf_svm3.predict(X3_train)\n",
    "print('precision is ', round(precision_score(y3_train, y3_pred_tr, average='weighted'), 5))"
   ]
  },
  {
   "cell_type": "markdown",
   "id": "37e8d5bb",
   "metadata": {},
   "source": [
    "Считаю precision на тесте и по классам для алгоритма с самой высокой средневзвешенной метрикой"
   ]
  },
  {
   "cell_type": "code",
   "execution_count": 24,
   "id": "4ec4dfbd",
   "metadata": {},
   "outputs": [],
   "source": [
    "best_model3=clf_RF6\n",
    "y3_predict=best_model3.predict(X3_test)"
   ]
  },
  {
   "cell_type": "code",
   "execution_count": 25,
   "id": "eb21001d",
   "metadata": {},
   "outputs": [
    {
     "name": "stdout",
     "output_type": "stream",
     "text": [
      "              precision    recall  f1-score   support\n",
      "\n",
      "         bad       0.37      0.22      0.27       339\n",
      "       great       0.81      0.93      0.87      2867\n",
      "       so-so       0.16      0.05      0.08       387\n",
      "\n",
      "    accuracy                           0.77      3593\n",
      "   macro avg       0.45      0.40      0.41      3593\n",
      "weighted avg       0.70      0.77      0.73      3593\n",
      "\n"
     ]
    }
   ],
   "source": [
    "print(classification_report(y3_test, y3_predict)) \n"
   ]
  },
  {
   "cell_type": "markdown",
   "id": "41f50107",
   "metadata": {},
   "source": [
    "Ансамбли"
   ]
  },
  {
   "cell_type": "code",
   "execution_count": 170,
   "id": "665ca590",
   "metadata": {},
   "outputs": [],
   "source": [
    "VotClas = VotingClassifier(estimators=[('SVC_model', clf_svm3), ('DT_model', clf_DT4), ('RF_model', clf_RF6)], \n",
    "                         n_jobs=-1)\n",
    "VotClas = VotClas.fit(X3_train, y3_train)\n"
   ]
  },
  {
   "cell_type": "code",
   "execution_count": 171,
   "id": "99caf7d3",
   "metadata": {},
   "outputs": [
    {
     "name": "stdout",
     "output_type": "stream",
     "text": [
      "accuracy is 0.91929\n",
      "precision is  0.92324\n",
      "recall is  0.91929\n"
     ]
    }
   ],
   "source": [
    "y3_predict_VotClas=VotClas.predict(X3_train)\n",
    "print(f'accuracy is {round(accuracy_score(y3_train, y3_predict_VotClas), 5)}') \n",
    "print('precision is ', round(precision_score(y3_train, y3_predict_VotClas, average='weighted'), 5))\n",
    "print('recall is ', round(recall_score(y3_train, y3_predict_VotClas, average='weighted'), 5))"
   ]
  },
  {
   "cell_type": "code",
   "execution_count": 124,
   "id": "24e1b193",
   "metadata": {},
   "outputs": [],
   "source": [
    "BagClas=BaggingClassifier(base_estimator=SVC(random_state=21),\n",
    "                        n_estimators=30, random_state=21, n_jobs=14).fit(X3_train, y3_train)"
   ]
  },
  {
   "cell_type": "code",
   "execution_count": 125,
   "id": "a9e83eba",
   "metadata": {},
   "outputs": [
    {
     "name": "stdout",
     "output_type": "stream",
     "text": [
      "accuracy is 0.81589\n",
      "precision is  0.83695\n",
      "recall is  0.81589\n"
     ]
    }
   ],
   "source": [
    "y_predict_BagClas=BagClas.predict(X3_train)\n",
    "print(f'accuracy is {round(sklearn.metrics.accuracy_score(y3_train, y_predict_BagClas), 5)}') \n",
    "print('precision is ', round(sklearn.metrics.precision_score(y3_train, y_predict_BagClas, average='weighted'), 5))\n",
    "print('recall is ', round(sklearn.metrics.recall_score(y3_train, y_predict_BagClas, average='weighted'), 5))"
   ]
  },
  {
   "cell_type": "code",
   "execution_count": 126,
   "id": "18fdd13e",
   "metadata": {},
   "outputs": [],
   "source": [
    "BagClas2=BaggingClassifier(base_estimator=RandomForestClassifier(random_state=21),\n",
    "                        n_estimators=40, random_state=21, n_jobs=14).fit(X3_train, y3_train)"
   ]
  },
  {
   "cell_type": "code",
   "execution_count": 127,
   "id": "6483a355",
   "metadata": {},
   "outputs": [
    {
     "name": "stdout",
     "output_type": "stream",
     "text": [
      "accuracy is 0.89382\n",
      "precision is  0.90092\n",
      "recall is  0.89382\n"
     ]
    }
   ],
   "source": [
    "y_predict_BagClas2=BagClas2.predict(X3_train)\n",
    "print(f'accuracy is {round(sklearn.metrics.accuracy_score(y3_train, y_predict_BagClas2), 5)}') \n",
    "print('precision is ', round(sklearn.metrics.precision_score(y3_train, y_predict_BagClas2, average='weighted'), 5))\n",
    "print('recall is ', round(sklearn.metrics.recall_score(y3_train, y_predict_BagClas2, average='weighted'), 5))"
   ]
  },
  {
   "cell_type": "code",
   "execution_count": 20,
   "id": "f770555c",
   "metadata": {},
   "outputs": [],
   "source": [
    "BagClas3=BaggingClassifier(base_estimator=RandomForestClassifier(n_estimators=100, max_depth=100, max_features=100, \n",
    "                                 random_state=21),\n",
    "                        n_estimators=40, random_state=21, n_jobs=-1).fit(X3_train, y3_train)"
   ]
  },
  {
   "cell_type": "code",
   "execution_count": 21,
   "id": "276c338e",
   "metadata": {},
   "outputs": [
    {
     "name": "stdout",
     "output_type": "stream",
     "text": [
      "accuracy is 0.86446\n",
      "precision is  0.87837\n",
      "recall is  0.86446\n"
     ]
    }
   ],
   "source": [
    "y_predict_BagClas3=BagClas3.predict(X3_train)\n",
    "print(f'accuracy is {round(sklearn.metrics.accuracy_score(y3_train, y_predict_BagClas3), 5)}') \n",
    "print('precision is ', round(sklearn.metrics.precision_score(y3_train, y_predict_BagClas3, average='weighted'), 5))\n",
    "print('recall is ', round(sklearn.metrics.recall_score(y3_train, y_predict_BagClas3, average='weighted'), 5))"
   ]
  },
  {
   "cell_type": "code",
   "execution_count": 128,
   "id": "cda13c01",
   "metadata": {},
   "outputs": [
    {
     "name": "stdout",
     "output_type": "stream",
     "text": [
      "accuracy is 0.81401\n",
      "precision is  0.72806\n",
      "recall is  0.81401\n"
     ]
    }
   ],
   "source": [
    "cv = StratifiedKFold(n_splits=5, shuffle=True, random_state=21)\n",
    "StackClas = StackingClassifier(estimators=[('SVC_model', clf_svm3), ('DT_model', clf_DT3), ('RF_model', clf_RF3)], \n",
    "                         final_estimator=LogisticRegression(solver='liblinear'),\n",
    "                         n_jobs=-1, cv=cv).fit(X3_train, y3_train)\n",
    "y_predict_StackClas=StackClas.predict(X3_train)\n",
    "print(f'accuracy is {round(accuracy_score(y3_train, y_predict_StackClas), 5)}') \n",
    "print('precision is ', round(precision_score(y3_train, y_predict_StackClas, average='weighted'), 5))\n",
    "print('recall is ', round(recall_score(y3_train, y_predict_StackClas, average='weighted'), 5))"
   ]
  },
  {
   "cell_type": "markdown",
   "id": "8fc5be0a",
   "metadata": {},
   "source": [
    "Считаю precision на тесте и по классам для ансамбля с самым высокой средневзвешенной метрикой"
   ]
  },
  {
   "cell_type": "code",
   "execution_count": 172,
   "id": "c6601f67",
   "metadata": {},
   "outputs": [],
   "source": [
    "best_ens=VotClas\n",
    "y3_predict_ens=best_ens.predict(X3_test)"
   ]
  },
  {
   "cell_type": "code",
   "execution_count": 173,
   "id": "05c0f8c3",
   "metadata": {},
   "outputs": [
    {
     "name": "stdout",
     "output_type": "stream",
     "text": [
      "              precision    recall  f1-score   support\n",
      "\n",
      "         bad       0.31      0.20      0.25       339\n",
      "       great       0.81      0.94      0.87      2867\n",
      "       so-so       0.12      0.02      0.03       387\n",
      "\n",
      "    accuracy                           0.77      3593\n",
      "   macro avg       0.41      0.39      0.38      3593\n",
      "weighted avg       0.69      0.77      0.72      3593\n",
      "\n"
     ]
    }
   ],
   "source": [
    "print(classification_report(y3_test, y3_predict_ens))"
   ]
  },
  {
   "cell_type": "markdown",
   "id": "6b4448cd",
   "metadata": {},
   "source": [
    "## 1.4.Принятие решения\n",
    "\n",
    "Примите решение о том, что лучше использовать: регрессионную модель или классификацию. Сохраните выбранную модель. Вы будете использовать ее в основной программе."
   ]
  },
  {
   "cell_type": "markdown",
   "id": "94a7023b",
   "metadata": {},
   "source": [
    "Используем классификацию по классам bad, so-so, great, тк метрики моделей существенно выше других 2х подходов."
   ]
  },
  {
   "cell_type": "markdown",
   "id": "96a776fa",
   "metadata": {},
   "source": [
    "Выбираю алгоритм с наиболее высоким показателем precision по классу great. В случае, если данный показтель одинаков, то выбираю модель с более высокими другими метриками "
   ]
  },
  {
   "cell_type": "code",
   "execution_count": 26,
   "id": "a33cfd30",
   "metadata": {},
   "outputs": [],
   "source": [
    "filename = 'best_model.sav'\n",
    "pickle.dump(clf_RF6, open(filename, 'wb'))"
   ]
  },
  {
   "cell_type": "markdown",
   "id": "451c97d1",
   "metadata": {},
   "source": [
    "## 2. Пищевая ценность\n",
    "Для информацию о пищевой ценности продуктов из отфильтрованного выше набора данных был использован следующий API: https://fdc.nal.usda.gov/api-guide.html\n",
    "Затем все значения были конвертированы в % от суточной нормы потребления. "
   ]
  },
  {
   "cell_type": "markdown",
   "id": "0dd2e616",
   "metadata": {},
   "source": [
    "Список ингредиентов был разделен на несколько частей, чтобы сайт не блокировал из-за слишком большого количества запросов"
   ]
  },
  {
   "cell_type": "code",
   "execution_count": 126,
   "id": "dde98f3f",
   "metadata": {},
   "outputs": [
    {
     "name": "stdout",
     "output_type": "stream",
     "text": [
      "almond 200\n",
      "amaretto 200\n",
      "anchovy 200\n",
      "anise 200\n",
      "apple 200\n",
      "apple juice 200\n",
      "apricot 200\n",
      "artichoke 200\n",
      "arugula 200\n",
      "asian pear 200\n",
      "asparagus 200\n",
      "avocado 200\n",
      "bacon 200\n",
      "banana 200\n",
      "barley 200\n",
      "basil 200\n",
      "bass 200\n",
      "bean 200\n",
      "beef 200\n",
      "beef rib 200\n",
      "beef shank 200\n",
      "beef tenderloin 200\n",
      "beer 200\n",
      "bitters 200\n",
      "blackberry 200\n",
      "beet 200\n",
      "bell pepper 200\n",
      "blue cheese 200\n",
      "blueberry 200\n",
      "bourbon 200\n",
      "bran 200\n",
      "brandy 200\n",
      "bread 200\n",
      "breadcrumbs 200\n",
      "brine 200\n",
      "brisket 200\n",
      "broccoli 200\n",
      "broccoli rabe 200\n",
      "brown rice 200\n",
      "brussel sprout 200\n",
      "bulgur 200\n",
      "butter 200\n",
      "buttermilk 200\n",
      "butternut squash 200\n",
      "caramel 200\n",
      "cabbage 200\n",
      "calvados 200\n"
     ]
    }
   ],
   "source": [
    "spisok=['almond','amaretto', 'anchovy', 'anise', 'apple', 'apple juice', 'apricot', 'artichoke', 'arugula', 'asian pear', \n",
    "            'asparagus', 'avocado', 'bacon', 'banana', 'barley', 'basil', 'bass', 'bean', 'beef', 'beef rib', 'beef shank',\n",
    "            'beef tenderloin', 'beer', 'bitters', 'blackberry', 'beet', 'bell pepper', 'blue cheese', 'blueberry', 'bourbon',\n",
    "            'bran', 'brandy','bread', 'breadcrumbs', 'brine', 'brisket', 'broccoli', 'broccoli rabe', 'brown rice',\n",
    "            'brussel sprout', 'bulgur', 'butter', 'buttermilk', 'butternut squash', 'caramel', 'cabbage',\n",
    "            'calvados']\n",
    "ingrid_i=[]\n",
    "nutric_i=[]\n",
    "amount_i=[]\n",
    "for i in spisok:\n",
    "    time.sleep(5) #чтобы сайт не блокировал из-за большого количества запросов\n",
    "    foodName = i\n",
    "    api_key = ''\n",
    "    url = f'https://api.nal.usda.gov/fdc/v1/foods/list?api_key={api_key}&query={foodName}'\n",
    "    result = requests.get(url)\n",
    "    print(foodName, result.status_code)\n",
    "    data = result.json() \n",
    "    df=pd.DataFrame.from_dict(pd.json_normalize(data), orient='columns')\n",
    "    df=df.loc[[0]]\n",
    "    df=df.loc[:, ['foodNutrients']]\n",
    "    df=df.loc[0]['foodNutrients']\n",
    "    \n",
    "    for j in df:\n",
    "        ingrid_i.append(i)\n",
    "        nutric_i.append(j['name'])\n",
    "        amount_i.append(j['amount'])\n",
    "data=pd.DataFrame({'ingrid_i':ingrid_i, 'nutric_i': nutric_i, 'amount_i': amount_i}) "
   ]
  },
  {
   "cell_type": "code",
   "execution_count": 67,
   "id": "7463a313",
   "metadata": {},
   "outputs": [
    {
     "name": "stdout",
     "output_type": "stream",
     "text": [
      "candy 200\n",
      "cantaloupe 200\n",
      "capers 200\n",
      "caraway 200\n",
      "cardamom 200\n",
      "carrot 200\n",
      "cashew 200\n",
      "cauliflower 200\n",
      "caviar 200\n",
      "celery 200\n",
      "champagne 200\n",
      "chard 200\n",
      "chartreuse 200\n",
      "cheddar 200\n",
      "cheese 200\n",
      "cherry 200\n",
      "chestnut 200\n",
      "chicken 200\n",
      "chickpea 200\n",
      "chile pepper 200\n",
      "chili 200\n",
      "chocolate 200\n",
      "cilantro 200\n",
      "cinnamon 200\n",
      "clam 200\n",
      "clove 200\n",
      "coconut 200\n",
      "cod 200\n",
      "coffee 200\n",
      "cognac 200\n",
      "collard greens 200\n",
      "coriander 200\n",
      "corn 200\n",
      "cornmeal 200\n",
      "cottage cheese 200\n",
      "couscous 200\n",
      "crab 200\n",
      "cranberry 200\n",
      "cranberry sauce 200\n",
      "cream cheese 200\n",
      "créme de cacao 200\n",
      "cucumber 200\n",
      "cumin 200\n",
      "currant 200\n",
      "curry 200\n",
      "custard 200\n",
      "dill 200\n",
      "duck 200\n",
      "eau de vie 200\n",
      "egg 200\n",
      "eggplant 200\n",
      "endive 200\n",
      "fennel 200\n",
      "feta 200\n",
      "fig 200\n",
      "flat bread 200\n",
      "fish 200\n",
      "fontina 200\n",
      "fortified wine 200\n",
      "frangelico 200\n",
      "garlic 200\n",
      "gin 200\n",
      "ginger 200\n",
      "goat cheese 200\n",
      "goose 200\n"
     ]
    }
   ],
   "source": [
    "spisok=['candy', 'cantaloupe', 'capers', 'caraway', 'cardamom', 'carrot',  'cashew', 'cauliflower',\n",
    "            'caviar', 'celery', 'champagne', 'chard', 'chartreuse', 'cheddar', 'cheese', 'cherry', 'chestnut', 'chicken',\n",
    "            'chickpea', 'chile pepper', 'chili', 'chocolate', 'cilantro', 'cinnamon', 'clam', 'clove', 'coconut', 'cod',\n",
    "            'coffee', 'cognac', 'collard greens', 'coriander', 'corn', 'cornmeal', 'cottage cheese', 'couscous',\n",
    "            'crab', 'cranberry', 'cranberry sauce', 'cream cheese', 'créme de cacao', 'cucumber', 'cumin', 'currant', 'curry',\n",
    "            'custard', 'dill', 'duck', 'eau de vie', 'egg', 'eggplant', 'endive', 'fennel', 'feta', 'fig', 'flat bread', \n",
    "            'fish', 'fontina', 'fortified wine', 'frangelico', 'garlic', 'gin', 'ginger', 'goat cheese', 'goose']\n",
    "ingrid_i=[]\n",
    "nutric_i=[]\n",
    "amount_i=[]\n",
    "for i in spisok:\n",
    "    time.sleep(5)\n",
    "    foodName = i\n",
    "    api_key = ''\n",
    "    url = f'https://api.nal.usda.gov/fdc/v1/foods/list?api_key={api_key}&query={foodName}'\n",
    "    result = requests.get(url)\n",
    "    print(foodName, result.status_code)\n",
    "    data = result.json() \n",
    "    df=pd.DataFrame.from_dict(pd.json_normalize(data), orient='columns')\n",
    "    df=df.loc[[0]]\n",
    "    df=df.loc[:, ['foodNutrients']]\n",
    "    df=df.loc[0]['foodNutrients']\n",
    "    \n",
    "    for j in df:\n",
    "        ingrid_i.append(i)\n",
    "        nutric_i.append(j['name'])\n",
    "        amount_i.append(j['amount'])\n",
    "data0=pd.DataFrame({'ingrid_i':ingrid_i, 'nutric_i': nutric_i, 'amount_i': amount_i}) "
   ]
  },
  {
   "cell_type": "code",
   "execution_count": 79,
   "id": "3e90569b",
   "metadata": {},
   "outputs": [
    {
     "name": "stdout",
     "output_type": "stream",
     "text": [
      "gouda 200\n",
      "granola 200\n",
      "grape 200\n",
      "grapefruit 200\n",
      "green bean 200\n",
      "green onion 200\n",
      "ground beef 200\n",
      "ground lamb 200\n",
      "guava 200\n",
      "halibut 200\n",
      "ham 200\n",
      "hazelnut 200\n",
      "cornmeal 200\n",
      "honey 200\n",
      "horseradish 200\n",
      "hot pepper 200\n",
      "ice cream 200\n",
      "jalapeno 200\n",
      "jerusalem artichoke 200\n",
      "jicama 200\n",
      "kahlua 200\n",
      "kirsch 200\n",
      "kiwi 200\n",
      "kumquat 200\n",
      "lamb 200\n",
      "lamb shank 200\n",
      "leek 200\n",
      "lemon 200\n",
      "lemon juice 200\n",
      "lemongrass 200\n",
      "lentil 200\n",
      "lettuce 200\n",
      "lima bean 200\n",
      "lime 200\n",
      "lime juice 200\n",
      "lingonberry 200\n",
      "liqueur 200\n",
      "lobster 200\n",
      "lychee 200\n",
      "macadamia nut 200\n",
      "mango 200\n",
      "maple syrup 200\n",
      "mascarpone 200\n",
      "marshmallow 200\n",
      "martini 200\n",
      "meat 200\n",
      "melon 200\n",
      "milk 200\n",
      "mint 200\n",
      "molasses 200\n",
      "mozzarella 200\n",
      "mushroom 200\n",
      "mussel 200\n",
      "mustard 200\n",
      "mustard greens 200\n",
      "nectarine 200\n",
      "noodle 200\n",
      "nut 200\n",
      "nutmeg 200\n",
      "oat 200\n",
      "oatmeal 200\n",
      "octopus 200\n",
      "okra 200\n",
      "olive 200\n",
      "onion 200\n",
      "orange 200\n",
      "orange juice 200\n",
      "oregano 200\n",
      "orzo 200\n",
      "oyster 200\n",
      "papaya 200\n",
      "paprika 200\n",
      "parmesan 200\n",
      "parsley 200\n",
      "passion fruit 200\n",
      "pasta 200\n",
      "pastry 200\n",
      "pea 200\n",
      "peach 200\n",
      "peanut 200\n",
      "peanut butter 200\n",
      "pear 200\n",
      "pepper 200\n",
      "persimmon 200\n",
      "pine nut 200\n",
      "pineapple 200\n",
      "pistachio 200\n",
      "plum 200\n",
      "poblano 200\n",
      "pomegranate 200\n",
      "pomegranate juice 200\n",
      "pork 200\n",
      "pork rib 200\n",
      "pork tenderloin 200\n",
      "potato 200\n",
      "poultry 200\n",
      "prosciutto 200\n",
      "prune 200\n",
      "pumpkin 200\n",
      "quail 200\n"
     ]
    }
   ],
   "source": [
    "spisok=['gouda', 'granola', 'grape',  'grapefruit', 'green bean', 'green onion', 'ground beef', 'ground lamb', \n",
    "            'guava', 'halibut', 'ham', 'hazelnut', 'cornmeal', 'honey', 'horseradish', 'hot pepper', 'ice cream',\n",
    "            'jalapeno', 'jerusalem artichoke', 'jicama', 'kahlua', 'kirsch', 'kiwi', 'kumquat', 'lamb', 'lamb shank',\n",
    "             'leek', 'lemon', 'lemon juice', 'lemongrass', 'lentil', 'lettuce', 'lima bean', 'lime', 'lime juice',\n",
    "            'lingonberry', 'liqueur', 'lobster', 'lychee', 'macadamia nut', 'mango', 'maple syrup', 'mascarpone', \n",
    "            'marshmallow', 'martini', 'meat', 'melon', 'milk', 'mint', 'molasses', 'mozzarella', 'mushroom', 'mussel',\n",
    "            'mustard', 'mustard greens', 'nectarine', 'noodle', 'nut', 'nutmeg', 'oat', 'oatmeal', 'octopus','okra', 'olive', \n",
    "             'onion', 'orange', 'orange juice', 'oregano', 'orzo', 'oyster', 'papaya', 'paprika', 'parmesan', 'parsley', \n",
    "            'passion fruit', 'pasta','pastry', 'pea', 'peach', 'peanut', 'peanut butter', 'pear', 'pepper', \n",
    "            'persimmon', 'pine nut', 'pineapple', 'pistachio', 'plum', 'poblano', 'pomegranate', 'pomegranate juice',\n",
    "            'pork', 'pork rib', 'pork tenderloin', 'potato', 'poultry', 'prosciutto', 'prune', 'pumpkin', 'quail']\n",
    "ingrid_i=[]\n",
    "nutric_i=[]\n",
    "amount_i=[]\n",
    "for i in spisok:\n",
    "    time.sleep(5)\n",
    "    foodName = i\n",
    "    api_key = ''\n",
    "    url = f'https://api.nal.usda.gov/fdc/v1/foods/list?api_key={api_key}&query={foodName}'\n",
    "    result = requests.get(url)\n",
    "    print(foodName, result.status_code)\n",
    "    data = result.json() \n",
    "    df=pd.DataFrame.from_dict(pd.json_normalize(data), orient='columns')\n",
    "    df=df.loc[[0]]\n",
    "    df=df.loc[:, ['foodNutrients']]\n",
    "    df=df.loc[0]['foodNutrients']\n",
    "    \n",
    "    for j in df:\n",
    "        ingrid_i.append(i)\n",
    "        nutric_i.append(j['name'])\n",
    "        amount_i.append(j['amount'])\n",
    "data2=pd.DataFrame({'ingrid_i':ingrid_i, 'nutric_i': nutric_i, 'amount_i': amount_i}) "
   ]
  },
  {
   "cell_type": "code",
   "execution_count": 83,
   "id": "dd5a954f",
   "metadata": {},
   "outputs": [
    {
     "name": "stdout",
     "output_type": "stream",
     "text": [
      "quince 200\n",
      "quinoa 200\n",
      "rabbit 200\n",
      "rack of lamb 200\n",
      "radicchio 200\n",
      "radish 200\n",
      "raisin 200\n",
      "raspberry 200\n",
      "rhubarb 200\n",
      "red wine 200\n",
      "rice 200\n",
      "ricotta 200\n",
      "rosemary 200\n",
      "rum 200\n",
      "rutabaga 200\n",
      "rye 200\n",
      "saffron 200\n",
      "sage 200\n",
      "sake 200\n",
      "salad 200\n",
      "salmon 200\n",
      "salsa 200\n",
      "sangria 200\n",
      "sardine 200\n",
      "sausage 200\n",
      "scallop 200\n",
      "scotch 200\n",
      "seafood 200\n",
      "semolina 200\n",
      "shellfish 200\n",
      "sesame 200\n",
      "sesame oil 200\n",
      "shallot 200\n",
      "sherry 200\n",
      "shrimp 200\n",
      "snapper 200\n",
      "sorbet 200\n",
      "sour cream 200\n",
      "soy 200\n",
      "soy sauce 200\n",
      "sparkling wine 200\n",
      "spinach 200\n",
      "squash 200\n",
      "squid 200\n",
      "strawberry 200\n",
      "sugar snap pea 200\n",
      "sweet potato 200\n",
      "swiss cheese 200\n",
      "swordfish 200\n",
      "tamarind 200\n",
      "tangerine 200\n",
      "tapioca 200\n",
      "tarragon 200\n",
      "tea 200\n",
      "tequila 200\n",
      "thyme 200\n",
      "tilapia 200\n",
      "tofu 200\n",
      "tomatillo 200\n",
      "tomato 200\n",
      "tortillas 200\n",
      "tree nut 200\n",
      "trout 200\n",
      "tuna 200\n",
      "turnip 200\n",
      "vanilla 200\n",
      "veal 200\n",
      "venison 200\n",
      "vermouth 200\n",
      "vinegar 200\n",
      "vodka 200\n",
      "walnut 200\n",
      "wasabi 200\n",
      "watercress 200\n",
      "watermelon 200\n",
      "whiskey 200\n",
      "white wine 200\n",
      "whole wheat 200\n",
      "wild rice 200\n",
      "yellow squash 200\n",
      "yogurt 200\n",
      "yuca 200\n",
      "zucchini 200\n",
      "turkey 200\n"
     ]
    }
   ],
   "source": [
    "spisok=['quince', 'quinoa', 'rabbit', 'rack of lamb', 'radicchio', 'radish', 'raisin', 'raspberry', 'rhubarb', 'red wine',\n",
    "            'rice', 'ricotta', 'rosemary', 'rum', 'rutabaga', 'rye', 'saffron', 'sage', 'sake', 'salad', 'salmon', 'salsa', \n",
    "            'sangria', 'sardine', 'sausage', 'scallop', 'scotch', 'seafood', 'semolina', 'shellfish',\n",
    "            'sesame', 'sesame oil', 'shallot', 'sherry', 'shrimp', 'snapper', 'sorbet', 'sour cream', 'soy', 'soy sauce',\n",
    "            'sparkling wine', 'spinach', 'squash', 'squid', 'strawberry', 'sugar snap pea', 'sweet potato',            \n",
    "           'swiss cheese', 'swordfish', 'tamarind', 'tangerine', 'tapioca', 'tarragon', 'tea', 'tequila',\n",
    "            'thyme', 'tilapia', 'tofu', 'tomatillo', 'tomato', 'tortillas', 'tree nut', 'trout', 'tuna',\n",
    "            'turnip', 'vanilla', 'veal', 'venison', 'vermouth', 'vinegar', 'vodka',\n",
    "            'walnut', 'wasabi', 'watercress', 'watermelon', 'whiskey', 'white wine',  'whole wheat', 'wild rice',\n",
    "            'yellow squash', 'yogurt', 'yuca', 'zucchini', 'turkey']\n",
    "ingrid_i=[]\n",
    "nutric_i=[]\n",
    "amount_i=[]\n",
    "for i in spisok:\n",
    "    time.sleep(5)\n",
    "    foodName = i\n",
    "    api_key = ''\n",
    "    url = f'https://api.nal.usda.gov/fdc/v1/foods/list?api_key={api_key}&query={foodName}'\n",
    "    result = requests.get(url)\n",
    "    print(foodName, result.status_code)\n",
    "    data = result.json() \n",
    "    df=pd.DataFrame.from_dict(pd.json_normalize(data), orient='columns')\n",
    "    df=df.loc[[0]]\n",
    "    df=df.loc[:, ['foodNutrients']]\n",
    "    df=df.loc[0]['foodNutrients']\n",
    "    \n",
    "    for j in df:\n",
    "        ingrid_i.append(i)\n",
    "        nutric_i.append(j['name'])\n",
    "        amount_i.append(j['amount'])\n",
    "data3=pd.DataFrame({'ingrid_i':ingrid_i, 'nutric_i': nutric_i, 'amount_i': amount_i}) "
   ]
  },
  {
   "cell_type": "code",
   "execution_count": 130,
   "id": "d3ccaf4d",
   "metadata": {},
   "outputs": [
    {
     "data": {
      "text/html": [
       "<div>\n",
       "<style scoped>\n",
       "    .dataframe tbody tr th:only-of-type {\n",
       "        vertical-align: middle;\n",
       "    }\n",
       "\n",
       "    .dataframe tbody tr th {\n",
       "        vertical-align: top;\n",
       "    }\n",
       "\n",
       "    .dataframe thead th {\n",
       "        text-align: right;\n",
       "    }\n",
       "</style>\n",
       "<table border=\"1\" class=\"dataframe\">\n",
       "  <thead>\n",
       "    <tr style=\"text-align: right;\">\n",
       "      <th></th>\n",
       "      <th>ingrid_i</th>\n",
       "      <th>nutric_i</th>\n",
       "      <th>amount_i</th>\n",
       "    </tr>\n",
       "  </thead>\n",
       "  <tbody>\n",
       "    <tr>\n",
       "      <th>0</th>\n",
       "      <td>almond</td>\n",
       "      <td>Protein</td>\n",
       "      <td>21.00</td>\n",
       "    </tr>\n",
       "    <tr>\n",
       "      <th>1</th>\n",
       "      <td>almond</td>\n",
       "      <td>Total lipid (fat)</td>\n",
       "      <td>55.50</td>\n",
       "    </tr>\n",
       "    <tr>\n",
       "      <th>2</th>\n",
       "      <td>almond</td>\n",
       "      <td>Carbohydrate, by difference</td>\n",
       "      <td>18.80</td>\n",
       "    </tr>\n",
       "    <tr>\n",
       "      <th>3</th>\n",
       "      <td>almond</td>\n",
       "      <td>Energy</td>\n",
       "      <td>614.00</td>\n",
       "    </tr>\n",
       "    <tr>\n",
       "      <th>4</th>\n",
       "      <td>almond</td>\n",
       "      <td>Alcohol, ethyl</td>\n",
       "      <td>0.00</td>\n",
       "    </tr>\n",
       "    <tr>\n",
       "      <th>...</th>\n",
       "      <td>...</td>\n",
       "      <td>...</td>\n",
       "      <td>...</td>\n",
       "    </tr>\n",
       "    <tr>\n",
       "      <th>3265</th>\n",
       "      <td>turkey</td>\n",
       "      <td>Vitamin A, IU</td>\n",
       "      <td>530.00</td>\n",
       "    </tr>\n",
       "    <tr>\n",
       "      <th>3266</th>\n",
       "      <td>turkey</td>\n",
       "      <td>Vitamin C, total ascorbic acid</td>\n",
       "      <td>0.00</td>\n",
       "    </tr>\n",
       "    <tr>\n",
       "      <th>3267</th>\n",
       "      <td>turkey</td>\n",
       "      <td>Cholesterol</td>\n",
       "      <td>34.00</td>\n",
       "    </tr>\n",
       "    <tr>\n",
       "      <th>3268</th>\n",
       "      <td>turkey</td>\n",
       "      <td>Fatty acids, total trans</td>\n",
       "      <td>0.00</td>\n",
       "    </tr>\n",
       "    <tr>\n",
       "      <th>3269</th>\n",
       "      <td>turkey</td>\n",
       "      <td>Fatty acids, total saturated</td>\n",
       "      <td>0.42</td>\n",
       "    </tr>\n",
       "  </tbody>\n",
       "</table>\n",
       "<p>11327 rows × 3 columns</p>\n",
       "</div>"
      ],
      "text/plain": [
       "     ingrid_i                        nutric_i  amount_i\n",
       "0      almond                         Protein     21.00\n",
       "1      almond               Total lipid (fat)     55.50\n",
       "2      almond     Carbohydrate, by difference     18.80\n",
       "3      almond                          Energy    614.00\n",
       "4      almond                  Alcohol, ethyl      0.00\n",
       "...       ...                             ...       ...\n",
       "3265   turkey                   Vitamin A, IU    530.00\n",
       "3266   turkey  Vitamin C, total ascorbic acid      0.00\n",
       "3267   turkey                     Cholesterol     34.00\n",
       "3268   turkey        Fatty acids, total trans      0.00\n",
       "3269   turkey    Fatty acids, total saturated      0.42\n",
       "\n",
       "[11327 rows x 3 columns]"
      ]
     },
     "execution_count": 130,
     "metadata": {},
     "output_type": "execute_result"
    }
   ],
   "source": [
    "data_final=pd.concat([data1, data0, data2, data3], axis=0)\n",
    "data_final"
   ]
  },
  {
   "cell_type": "code",
   "execution_count": 131,
   "id": "efb493b2",
   "metadata": {},
   "outputs": [],
   "source": [
    "data_pv=pd.pivot_table(data_final, index='ingrid_i', columns='nutric_i', values='amount_i', fill_value=0) "
   ]
  },
  {
   "cell_type": "markdown",
   "id": "efb9c8e7",
   "metadata": {},
   "source": [
    "Таблица с нормами суточного потребления нутриентов была сформирована на основе данных:\n",
    "https://s3.amazonaws.com/public-inspection.federalregister.gov/2016-11867.pdf  (pages 903-905)"
   ]
  },
  {
   "cell_type": "code",
   "execution_count": 110,
   "id": "f5702bb7",
   "metadata": {},
   "outputs": [
    {
     "data": {
      "text/html": [
       "<div>\n",
       "<style scoped>\n",
       "    .dataframe tbody tr th:only-of-type {\n",
       "        vertical-align: middle;\n",
       "    }\n",
       "\n",
       "    .dataframe tbody tr th {\n",
       "        vertical-align: top;\n",
       "    }\n",
       "\n",
       "    .dataframe thead th {\n",
       "        text-align: right;\n",
       "    }\n",
       "</style>\n",
       "<table border=\"1\" class=\"dataframe\">\n",
       "  <thead>\n",
       "    <tr style=\"text-align: right;\">\n",
       "      <th></th>\n",
       "      <th>norms</th>\n",
       "    </tr>\n",
       "  </thead>\n",
       "  <tbody>\n",
       "    <tr>\n",
       "      <th>Calcium, Ca</th>\n",
       "      <td>1300.0</td>\n",
       "    </tr>\n",
       "    <tr>\n",
       "      <th>Cholesterol</th>\n",
       "      <td>300.0</td>\n",
       "    </tr>\n",
       "    <tr>\n",
       "      <th>Choline, total</th>\n",
       "      <td>550.0</td>\n",
       "    </tr>\n",
       "  </tbody>\n",
       "</table>\n",
       "</div>"
      ],
      "text/plain": [
       "                 norms\n",
       "Calcium, Ca     1300.0\n",
       "Cholesterol      300.0\n",
       "Choline, total   550.0"
      ]
     },
     "execution_count": 110,
     "metadata": {},
     "output_type": "execute_result"
    }
   ],
   "source": [
    "norms=pd.read_csv('data/data_norms.csv', index_col=0)\n",
    "norms.head(3)"
   ]
  },
  {
   "cell_type": "code",
   "execution_count": 94,
   "id": "333799f5",
   "metadata": {},
   "outputs": [
    {
     "data": {
      "text/plain": [
       "['Calcium, Ca',\n",
       " 'Cholesterol',\n",
       " 'Choline, total',\n",
       " 'Copper, Cu',\n",
       " 'Fatty acids, total saturated',\n",
       " 'Folate, total',\n",
       " 'Iron, Fe',\n",
       " 'Magnesium, Mg',\n",
       " 'Manganese, Mn',\n",
       " 'Niacin',\n",
       " 'Pantothenic acid',\n",
       " 'Phosphorus, P',\n",
       " 'Potassium, K',\n",
       " 'Protein',\n",
       " 'Riboflavin',\n",
       " 'Selenium, Se',\n",
       " 'Sodium, Na',\n",
       " 'Thiamin',\n",
       " 'Vitamin A, IU',\n",
       " 'Vitamin B-12',\n",
       " 'Vitamin B-6',\n",
       " 'Vitamin C, total ascorbic acid',\n",
       " 'Vitamin D (D2 + D3)',\n",
       " 'Vitamin E (alpha-tocopherol)',\n",
       " 'Vitamin K (Dihydrophylloquinone)',\n",
       " 'Zinc, Zn']"
      ]
     },
     "execution_count": 94,
     "metadata": {},
     "output_type": "execute_result"
    }
   ],
   "source": [
    "normsT=norms.T\n",
    "normsT.columns.to_list()"
   ]
  },
  {
   "cell_type": "code",
   "execution_count": 109,
   "id": "266f8814",
   "metadata": {},
   "outputs": [
    {
     "data": {
      "text/html": [
       "<div>\n",
       "<style scoped>\n",
       "    .dataframe tbody tr th:only-of-type {\n",
       "        vertical-align: middle;\n",
       "    }\n",
       "\n",
       "    .dataframe tbody tr th {\n",
       "        vertical-align: top;\n",
       "    }\n",
       "\n",
       "    .dataframe thead th {\n",
       "        text-align: right;\n",
       "    }\n",
       "</style>\n",
       "<table border=\"1\" class=\"dataframe\">\n",
       "  <thead>\n",
       "    <tr style=\"text-align: right;\">\n",
       "      <th></th>\n",
       "      <th>Calcium, Ca</th>\n",
       "      <th>Cholesterol</th>\n",
       "      <th>Choline, total</th>\n",
       "      <th>Copper, Cu</th>\n",
       "      <th>Fatty acids, total saturated</th>\n",
       "      <th>Folate, total</th>\n",
       "      <th>Iron, Fe</th>\n",
       "      <th>Magnesium, Mg</th>\n",
       "      <th>Manganese, Mn</th>\n",
       "      <th>Niacin</th>\n",
       "      <th>...</th>\n",
       "      <th>Sodium, Na</th>\n",
       "      <th>Thiamin</th>\n",
       "      <th>Vitamin A, IU</th>\n",
       "      <th>Vitamin B-12</th>\n",
       "      <th>Vitamin B-6</th>\n",
       "      <th>Vitamin C, total ascorbic acid</th>\n",
       "      <th>Vitamin D (D2 + D3)</th>\n",
       "      <th>Vitamin E (alpha-tocopherol)</th>\n",
       "      <th>Vitamin K (Dihydrophylloquinone)</th>\n",
       "      <th>Zinc, Zn</th>\n",
       "    </tr>\n",
       "    <tr>\n",
       "      <th>ingrid_i</th>\n",
       "      <th></th>\n",
       "      <th></th>\n",
       "      <th></th>\n",
       "      <th></th>\n",
       "      <th></th>\n",
       "      <th></th>\n",
       "      <th></th>\n",
       "      <th></th>\n",
       "      <th></th>\n",
       "      <th></th>\n",
       "      <th></th>\n",
       "      <th></th>\n",
       "      <th></th>\n",
       "      <th></th>\n",
       "      <th></th>\n",
       "      <th></th>\n",
       "      <th></th>\n",
       "      <th></th>\n",
       "      <th></th>\n",
       "      <th></th>\n",
       "      <th></th>\n",
       "    </tr>\n",
       "  </thead>\n",
       "  <tbody>\n",
       "    <tr>\n",
       "      <th>almond</th>\n",
       "      <td>347.0</td>\n",
       "      <td>0</td>\n",
       "      <td>52.1</td>\n",
       "      <td>0.934</td>\n",
       "      <td>6.55</td>\n",
       "      <td>53.0</td>\n",
       "      <td>3.49</td>\n",
       "      <td>279.0</td>\n",
       "      <td>0.0</td>\n",
       "      <td>3.16</td>\n",
       "      <td>...</td>\n",
       "      <td>227</td>\n",
       "      <td>0.041</td>\n",
       "      <td>0</td>\n",
       "      <td>0.00</td>\n",
       "      <td>0.103</td>\n",
       "      <td>0.0</td>\n",
       "      <td>0.0</td>\n",
       "      <td>24.20</td>\n",
       "      <td>0</td>\n",
       "      <td>3.29</td>\n",
       "    </tr>\n",
       "    <tr>\n",
       "      <th>amaretto</th>\n",
       "      <td>0.0</td>\n",
       "      <td>0</td>\n",
       "      <td>0.0</td>\n",
       "      <td>0.000</td>\n",
       "      <td>3.33</td>\n",
       "      <td>0.0</td>\n",
       "      <td>0.00</td>\n",
       "      <td>0.0</td>\n",
       "      <td>0.0</td>\n",
       "      <td>0.00</td>\n",
       "      <td>...</td>\n",
       "      <td>67</td>\n",
       "      <td>0.000</td>\n",
       "      <td>0</td>\n",
       "      <td>0.00</td>\n",
       "      <td>0.000</td>\n",
       "      <td>0.0</td>\n",
       "      <td>0.0</td>\n",
       "      <td>0.00</td>\n",
       "      <td>0</td>\n",
       "      <td>0.00</td>\n",
       "    </tr>\n",
       "    <tr>\n",
       "      <th>anchovy</th>\n",
       "      <td>232.0</td>\n",
       "      <td>85</td>\n",
       "      <td>85.0</td>\n",
       "      <td>0.339</td>\n",
       "      <td>2.20</td>\n",
       "      <td>13.0</td>\n",
       "      <td>4.63</td>\n",
       "      <td>69.0</td>\n",
       "      <td>0.0</td>\n",
       "      <td>19.90</td>\n",
       "      <td>...</td>\n",
       "      <td>3670</td>\n",
       "      <td>0.078</td>\n",
       "      <td>0</td>\n",
       "      <td>0.88</td>\n",
       "      <td>0.203</td>\n",
       "      <td>0.0</td>\n",
       "      <td>1.7</td>\n",
       "      <td>3.33</td>\n",
       "      <td>0</td>\n",
       "      <td>2.44</td>\n",
       "    </tr>\n",
       "  </tbody>\n",
       "</table>\n",
       "<p>3 rows × 26 columns</p>\n",
       "</div>"
      ],
      "text/plain": [
       "          Calcium, Ca  Cholesterol  Choline, total  Copper, Cu  \\\n",
       "ingrid_i                                                         \n",
       "almond          347.0            0            52.1       0.934   \n",
       "amaretto          0.0            0             0.0       0.000   \n",
       "anchovy         232.0           85            85.0       0.339   \n",
       "\n",
       "          Fatty acids, total saturated  Folate, total  Iron, Fe  \\\n",
       "ingrid_i                                                          \n",
       "almond                            6.55           53.0      3.49   \n",
       "amaretto                          3.33            0.0      0.00   \n",
       "anchovy                           2.20           13.0      4.63   \n",
       "\n",
       "          Magnesium, Mg  Manganese, Mn  Niacin  ...  Sodium, Na  Thiamin  \\\n",
       "ingrid_i                                        ...                        \n",
       "almond            279.0            0.0    3.16  ...         227    0.041   \n",
       "amaretto            0.0            0.0    0.00  ...          67    0.000   \n",
       "anchovy            69.0            0.0   19.90  ...        3670    0.078   \n",
       "\n",
       "          Vitamin A, IU  Vitamin B-12  Vitamin B-6  \\\n",
       "ingrid_i                                             \n",
       "almond                0          0.00        0.103   \n",
       "amaretto              0          0.00        0.000   \n",
       "anchovy               0          0.88        0.203   \n",
       "\n",
       "          Vitamin C, total ascorbic acid  Vitamin D (D2 + D3)  \\\n",
       "ingrid_i                                                        \n",
       "almond                               0.0                  0.0   \n",
       "amaretto                             0.0                  0.0   \n",
       "anchovy                              0.0                  1.7   \n",
       "\n",
       "          Vitamin E (alpha-tocopherol)  Vitamin K (Dihydrophylloquinone)  \\\n",
       "ingrid_i                                                                   \n",
       "almond                           24.20                                 0   \n",
       "amaretto                          0.00                                 0   \n",
       "anchovy                           3.33                                 0   \n",
       "\n",
       "          Zinc, Zn  \n",
       "ingrid_i            \n",
       "almond        3.29  \n",
       "amaretto      0.00  \n",
       "anchovy       2.44  \n",
       "\n",
       "[3 rows x 26 columns]"
      ]
     },
     "execution_count": 109,
     "metadata": {},
     "output_type": "execute_result"
    }
   ],
   "source": [
    "# выделяю из датафрейм с ингридиентами только основные нутриенты\n",
    "data_nutrients=data_pv[['Calcium, Ca', 'Cholesterol', 'Choline, total', 'Copper, Cu', 'Fatty acids, total saturated', \n",
    "                'Folate, total', 'Iron, Fe', 'Magnesium, Mg', 'Manganese, Mn', 'Niacin', 'Pantothenic acid',\n",
    "               'Phosphorus, P', 'Potassium, K', 'Protein', 'Riboflavin', 'Selenium, Se', 'Sodium, Na', 'Thiamin',\n",
    "                'Vitamin A, IU', 'Vitamin B-12', 'Vitamin B-6', 'Vitamin C, total ascorbic acid', 'Vitamin D (D2 + D3)',\n",
    "                'Vitamin E (alpha-tocopherol)', 'Vitamin K (Dihydrophylloquinone)', 'Zinc, Zn']]\n",
    "data_nutrients.head(3)"
   ]
  },
  {
   "cell_type": "code",
   "execution_count": 114,
   "id": "3f4c7142",
   "metadata": {},
   "outputs": [],
   "source": [
    "data_nutrients_share=data_nutrients.copy()"
   ]
  },
  {
   "cell_type": "code",
   "execution_count": 115,
   "id": "257e93ef",
   "metadata": {},
   "outputs": [],
   "source": [
    "# пересчет в долю нутриентов в ингридиенте в %% от суточной нормы\n",
    "for column in data_nutrients_share:\n",
    "    data_nutrients_share[column] = data_nutrients_share[column]/norms.loc[column, \"norms\"]*100"
   ]
  },
  {
   "cell_type": "code",
   "execution_count": 118,
   "id": "00bf4342",
   "metadata": {},
   "outputs": [],
   "source": [
    "data_nutrients_shareT=data_nutrients_share.T"
   ]
  },
  {
   "cell_type": "code",
   "execution_count": 125,
   "id": "be62beaf",
   "metadata": {},
   "outputs": [
    {
     "data": {
      "text/html": [
       "<div>\n",
       "<style scoped>\n",
       "    .dataframe tbody tr th:only-of-type {\n",
       "        vertical-align: middle;\n",
       "    }\n",
       "\n",
       "    .dataframe tbody tr th {\n",
       "        vertical-align: top;\n",
       "    }\n",
       "\n",
       "    .dataframe thead th {\n",
       "        text-align: right;\n",
       "    }\n",
       "</style>\n",
       "<table border=\"1\" class=\"dataframe\">\n",
       "  <thead>\n",
       "    <tr style=\"text-align: right;\">\n",
       "      <th>ingrid_i</th>\n",
       "      <th>almond</th>\n",
       "      <th>amaretto</th>\n",
       "      <th>anchovy</th>\n",
       "      <th>anise</th>\n",
       "      <th>apple</th>\n",
       "      <th>apple juice</th>\n",
       "      <th>apricot</th>\n",
       "      <th>artichoke</th>\n",
       "      <th>arugula</th>\n",
       "      <th>asian pear</th>\n",
       "      <th>...</th>\n",
       "      <th>watercress</th>\n",
       "      <th>watermelon</th>\n",
       "      <th>whiskey</th>\n",
       "      <th>white wine</th>\n",
       "      <th>whole wheat</th>\n",
       "      <th>wild rice</th>\n",
       "      <th>yellow squash</th>\n",
       "      <th>yogurt</th>\n",
       "      <th>yuca</th>\n",
       "      <th>zucchini</th>\n",
       "    </tr>\n",
       "  </thead>\n",
       "  <tbody>\n",
       "    <tr>\n",
       "      <th>Calcium, Ca</th>\n",
       "      <td>26.692308</td>\n",
       "      <td>0.0</td>\n",
       "      <td>17.846154</td>\n",
       "      <td>49.692308</td>\n",
       "      <td>0.0</td>\n",
       "      <td>0.0</td>\n",
       "      <td>0.0</td>\n",
       "      <td>0.0</td>\n",
       "      <td>13.538462</td>\n",
       "      <td>0.307692</td>\n",
       "      <td>...</td>\n",
       "      <td>9.615385</td>\n",
       "      <td>0.0</td>\n",
       "      <td>0.0</td>\n",
       "      <td>0.692308</td>\n",
       "      <td>7.769231</td>\n",
       "      <td>0.0</td>\n",
       "      <td>1.538462</td>\n",
       "      <td>9.076923</td>\n",
       "      <td>0.0</td>\n",
       "      <td>1.615385</td>\n",
       "    </tr>\n",
       "    <tr>\n",
       "      <th>Cholesterol</th>\n",
       "      <td>0.000000</td>\n",
       "      <td>0.0</td>\n",
       "      <td>28.333333</td>\n",
       "      <td>0.000000</td>\n",
       "      <td>0.0</td>\n",
       "      <td>0.0</td>\n",
       "      <td>0.0</td>\n",
       "      <td>0.0</td>\n",
       "      <td>0.000000</td>\n",
       "      <td>0.000000</td>\n",
       "      <td>...</td>\n",
       "      <td>0.666667</td>\n",
       "      <td>0.0</td>\n",
       "      <td>0.0</td>\n",
       "      <td>0.000000</td>\n",
       "      <td>0.000000</td>\n",
       "      <td>0.0</td>\n",
       "      <td>0.000000</td>\n",
       "      <td>4.000000</td>\n",
       "      <td>0.0</td>\n",
       "      <td>0.000000</td>\n",
       "    </tr>\n",
       "    <tr>\n",
       "      <th>Choline, total</th>\n",
       "      <td>9.472727</td>\n",
       "      <td>0.0</td>\n",
       "      <td>15.454545</td>\n",
       "      <td>0.000000</td>\n",
       "      <td>0.0</td>\n",
       "      <td>0.0</td>\n",
       "      <td>0.0</td>\n",
       "      <td>0.0</td>\n",
       "      <td>0.000000</td>\n",
       "      <td>0.927273</td>\n",
       "      <td>...</td>\n",
       "      <td>1.745455</td>\n",
       "      <td>0.0</td>\n",
       "      <td>0.0</td>\n",
       "      <td>0.781818</td>\n",
       "      <td>0.000000</td>\n",
       "      <td>0.0</td>\n",
       "      <td>0.000000</td>\n",
       "      <td>0.000000</td>\n",
       "      <td>0.0</td>\n",
       "      <td>0.000000</td>\n",
       "    </tr>\n",
       "  </tbody>\n",
       "</table>\n",
       "<p>3 rows × 293 columns</p>\n",
       "</div>"
      ],
      "text/plain": [
       "ingrid_i           almond  amaretto    anchovy      anise  apple  apple juice  \\\n",
       "Calcium, Ca     26.692308       0.0  17.846154  49.692308    0.0          0.0   \n",
       "Cholesterol      0.000000       0.0  28.333333   0.000000    0.0          0.0   \n",
       "Choline, total   9.472727       0.0  15.454545   0.000000    0.0          0.0   \n",
       "\n",
       "ingrid_i        apricot  artichoke    arugula  asian pear  ...  watercress  \\\n",
       "Calcium, Ca         0.0        0.0  13.538462    0.307692  ...    9.615385   \n",
       "Cholesterol         0.0        0.0   0.000000    0.000000  ...    0.666667   \n",
       "Choline, total      0.0        0.0   0.000000    0.927273  ...    1.745455   \n",
       "\n",
       "ingrid_i        watermelon  whiskey  white wine  whole wheat  wild rice  \\\n",
       "Calcium, Ca            0.0      0.0    0.692308     7.769231        0.0   \n",
       "Cholesterol            0.0      0.0    0.000000     0.000000        0.0   \n",
       "Choline, total         0.0      0.0    0.781818     0.000000        0.0   \n",
       "\n",
       "ingrid_i        yellow squash    yogurt  yuca  zucchini  \n",
       "Calcium, Ca          1.538462  9.076923   0.0  1.615385  \n",
       "Cholesterol          0.000000  4.000000   0.0  0.000000  \n",
       "Choline, total       0.000000  0.000000   0.0  0.000000  \n",
       "\n",
       "[3 rows x 293 columns]"
      ]
     },
     "execution_count": 125,
     "metadata": {},
     "output_type": "execute_result"
    }
   ],
   "source": [
    "data_nutrients_shareT.head(3)"
   ]
  },
  {
   "cell_type": "code",
   "execution_count": 127,
   "id": "196ce0bc",
   "metadata": {},
   "outputs": [],
   "source": [
    "data_nutrients_shareT.to_csv('data/share_in_limits_final.csv')"
   ]
  },
  {
   "cell_type": "code",
   "execution_count": 143,
   "id": "28da3d88",
   "metadata": {},
   "outputs": [],
   "source": [
    "df_nutr_check=pd.read_csv('data/share_in_limits_final.csv')"
   ]
  },
  {
   "cell_type": "code",
   "execution_count": 145,
   "id": "cb9b9c1b",
   "metadata": {},
   "outputs": [
    {
     "data": {
      "text/plain": [
       "['Calcium, Ca',\n",
       " 'Cholesterol',\n",
       " 'Choline, total',\n",
       " 'Copper, Cu',\n",
       " 'Fatty acids, total saturated',\n",
       " 'Folate, total',\n",
       " 'Iron, Fe',\n",
       " 'Magnesium, Mg',\n",
       " 'Manganese, Mn',\n",
       " 'Niacin',\n",
       " 'Pantothenic acid',\n",
       " 'Phosphorus, P',\n",
       " 'Potassium, K',\n",
       " 'Protein',\n",
       " 'Riboflavin',\n",
       " 'Selenium, Se',\n",
       " 'Sodium, Na',\n",
       " 'Thiamin',\n",
       " 'Vitamin A, IU',\n",
       " 'Vitamin B-12',\n",
       " 'Vitamin B-6',\n",
       " 'Vitamin C, total ascorbic acid',\n",
       " 'Vitamin D (D2 + D3)',\n",
       " 'Vitamin E (alpha-tocopherol)',\n",
       " 'Vitamin K (Dihydrophylloquinone)',\n",
       " 'Zinc, Zn']"
      ]
     },
     "execution_count": 145,
     "metadata": {},
     "output_type": "execute_result"
    }
   ],
   "source": [
    "list(pd.read_csv('data/share_in_limits_final.csv').iloc[:, 0])"
   ]
  },
  {
   "cell_type": "code",
   "execution_count": 144,
   "id": "2634363c",
   "metadata": {},
   "outputs": [
    {
     "data": {
      "text/html": [
       "<div>\n",
       "<style scoped>\n",
       "    .dataframe tbody tr th:only-of-type {\n",
       "        vertical-align: middle;\n",
       "    }\n",
       "\n",
       "    .dataframe tbody tr th {\n",
       "        vertical-align: top;\n",
       "    }\n",
       "\n",
       "    .dataframe thead th {\n",
       "        text-align: right;\n",
       "    }\n",
       "</style>\n",
       "<table border=\"1\" class=\"dataframe\">\n",
       "  <thead>\n",
       "    <tr style=\"text-align: right;\">\n",
       "      <th></th>\n",
       "      <th>Unnamed: 0</th>\n",
       "      <th>almond</th>\n",
       "      <th>amaretto</th>\n",
       "      <th>anchovy</th>\n",
       "      <th>anise</th>\n",
       "      <th>apple</th>\n",
       "      <th>apple juice</th>\n",
       "      <th>apricot</th>\n",
       "      <th>artichoke</th>\n",
       "      <th>arugula</th>\n",
       "      <th>...</th>\n",
       "      <th>watercress</th>\n",
       "      <th>watermelon</th>\n",
       "      <th>whiskey</th>\n",
       "      <th>white wine</th>\n",
       "      <th>whole wheat</th>\n",
       "      <th>wild rice</th>\n",
       "      <th>yellow squash</th>\n",
       "      <th>yogurt</th>\n",
       "      <th>yuca</th>\n",
       "      <th>zucchini</th>\n",
       "    </tr>\n",
       "  </thead>\n",
       "  <tbody>\n",
       "    <tr>\n",
       "      <th>0</th>\n",
       "      <td>Calcium, Ca</td>\n",
       "      <td>26.692308</td>\n",
       "      <td>0.000000</td>\n",
       "      <td>17.846154</td>\n",
       "      <td>49.692308</td>\n",
       "      <td>0.000000</td>\n",
       "      <td>0.00000</td>\n",
       "      <td>0.000000</td>\n",
       "      <td>0.000000</td>\n",
       "      <td>13.538462</td>\n",
       "      <td>...</td>\n",
       "      <td>9.615385</td>\n",
       "      <td>0.00</td>\n",
       "      <td>0.000000</td>\n",
       "      <td>0.692308</td>\n",
       "      <td>7.769231</td>\n",
       "      <td>0.000000</td>\n",
       "      <td>1.538462</td>\n",
       "      <td>9.076923</td>\n",
       "      <td>0.000000</td>\n",
       "      <td>1.615385</td>\n",
       "    </tr>\n",
       "    <tr>\n",
       "      <th>1</th>\n",
       "      <td>Cholesterol</td>\n",
       "      <td>0.000000</td>\n",
       "      <td>0.000000</td>\n",
       "      <td>28.333333</td>\n",
       "      <td>0.000000</td>\n",
       "      <td>0.000000</td>\n",
       "      <td>0.00000</td>\n",
       "      <td>0.000000</td>\n",
       "      <td>0.000000</td>\n",
       "      <td>0.000000</td>\n",
       "      <td>...</td>\n",
       "      <td>0.666667</td>\n",
       "      <td>0.00</td>\n",
       "      <td>0.000000</td>\n",
       "      <td>0.000000</td>\n",
       "      <td>0.000000</td>\n",
       "      <td>0.000000</td>\n",
       "      <td>0.000000</td>\n",
       "      <td>4.000000</td>\n",
       "      <td>0.000000</td>\n",
       "      <td>0.000000</td>\n",
       "    </tr>\n",
       "    <tr>\n",
       "      <th>2</th>\n",
       "      <td>Choline, total</td>\n",
       "      <td>9.472727</td>\n",
       "      <td>0.000000</td>\n",
       "      <td>15.454545</td>\n",
       "      <td>0.000000</td>\n",
       "      <td>0.000000</td>\n",
       "      <td>0.00000</td>\n",
       "      <td>0.000000</td>\n",
       "      <td>0.000000</td>\n",
       "      <td>0.000000</td>\n",
       "      <td>...</td>\n",
       "      <td>1.745455</td>\n",
       "      <td>0.00</td>\n",
       "      <td>0.000000</td>\n",
       "      <td>0.781818</td>\n",
       "      <td>0.000000</td>\n",
       "      <td>0.000000</td>\n",
       "      <td>0.000000</td>\n",
       "      <td>0.000000</td>\n",
       "      <td>0.000000</td>\n",
       "      <td>0.000000</td>\n",
       "    </tr>\n",
       "    <tr>\n",
       "      <th>3</th>\n",
       "      <td>Copper, Cu</td>\n",
       "      <td>103.777778</td>\n",
       "      <td>0.000000</td>\n",
       "      <td>37.666667</td>\n",
       "      <td>101.111111</td>\n",
       "      <td>0.000000</td>\n",
       "      <td>0.00000</td>\n",
       "      <td>0.000000</td>\n",
       "      <td>0.000000</td>\n",
       "      <td>0.000000</td>\n",
       "      <td>...</td>\n",
       "      <td>8.888889</td>\n",
       "      <td>0.00</td>\n",
       "      <td>2.333333</td>\n",
       "      <td>0.444444</td>\n",
       "      <td>0.000000</td>\n",
       "      <td>0.000000</td>\n",
       "      <td>0.000000</td>\n",
       "      <td>0.000000</td>\n",
       "      <td>0.000000</td>\n",
       "      <td>0.000000</td>\n",
       "    </tr>\n",
       "    <tr>\n",
       "      <th>4</th>\n",
       "      <td>Fatty acids, total saturated</td>\n",
       "      <td>8.397436</td>\n",
       "      <td>4.269231</td>\n",
       "      <td>2.820513</td>\n",
       "      <td>0.751282</td>\n",
       "      <td>0.000000</td>\n",
       "      <td>0.00000</td>\n",
       "      <td>0.000000</td>\n",
       "      <td>2.141026</td>\n",
       "      <td>0.000000</td>\n",
       "      <td>...</td>\n",
       "      <td>1.029487</td>\n",
       "      <td>0.00</td>\n",
       "      <td>0.000000</td>\n",
       "      <td>0.000000</td>\n",
       "      <td>1.628205</td>\n",
       "      <td>0.000000</td>\n",
       "      <td>0.000000</td>\n",
       "      <td>2.256410</td>\n",
       "      <td>0.000000</td>\n",
       "      <td>0.000000</td>\n",
       "    </tr>\n",
       "    <tr>\n",
       "      <th>5</th>\n",
       "      <td>Folate, total</td>\n",
       "      <td>13.250000</td>\n",
       "      <td>0.000000</td>\n",
       "      <td>3.250000</td>\n",
       "      <td>2.500000</td>\n",
       "      <td>0.000000</td>\n",
       "      <td>0.00000</td>\n",
       "      <td>0.000000</td>\n",
       "      <td>0.000000</td>\n",
       "      <td>0.000000</td>\n",
       "      <td>...</td>\n",
       "      <td>1.750000</td>\n",
       "      <td>0.00</td>\n",
       "      <td>0.000000</td>\n",
       "      <td>0.250000</td>\n",
       "      <td>0.000000</td>\n",
       "      <td>0.000000</td>\n",
       "      <td>0.000000</td>\n",
       "      <td>0.000000</td>\n",
       "      <td>0.000000</td>\n",
       "      <td>0.000000</td>\n",
       "    </tr>\n",
       "    <tr>\n",
       "      <th>6</th>\n",
       "      <td>Iron, Fe</td>\n",
       "      <td>19.388889</td>\n",
       "      <td>0.000000</td>\n",
       "      <td>25.722222</td>\n",
       "      <td>205.555556</td>\n",
       "      <td>1.277778</td>\n",
       "      <td>0.00000</td>\n",
       "      <td>0.000000</td>\n",
       "      <td>3.333333</td>\n",
       "      <td>7.055556</td>\n",
       "      <td>...</td>\n",
       "      <td>1.166667</td>\n",
       "      <td>0.00</td>\n",
       "      <td>0.222222</td>\n",
       "      <td>1.500000</td>\n",
       "      <td>12.666667</td>\n",
       "      <td>8.888889</td>\n",
       "      <td>2.055556</td>\n",
       "      <td>0.000000</td>\n",
       "      <td>0.000000</td>\n",
       "      <td>2.444444</td>\n",
       "    </tr>\n",
       "    <tr>\n",
       "      <th>7</th>\n",
       "      <td>Magnesium, Mg</td>\n",
       "      <td>66.428571</td>\n",
       "      <td>0.000000</td>\n",
       "      <td>16.428571</td>\n",
       "      <td>40.476190</td>\n",
       "      <td>0.000000</td>\n",
       "      <td>0.00000</td>\n",
       "      <td>0.000000</td>\n",
       "      <td>0.000000</td>\n",
       "      <td>0.000000</td>\n",
       "      <td>...</td>\n",
       "      <td>5.238095</td>\n",
       "      <td>0.00</td>\n",
       "      <td>0.000000</td>\n",
       "      <td>2.380952</td>\n",
       "      <td>0.000000</td>\n",
       "      <td>0.000000</td>\n",
       "      <td>0.000000</td>\n",
       "      <td>0.000000</td>\n",
       "      <td>0.000000</td>\n",
       "      <td>0.000000</td>\n",
       "    </tr>\n",
       "    <tr>\n",
       "      <th>8</th>\n",
       "      <td>Manganese, Mn</td>\n",
       "      <td>0.000000</td>\n",
       "      <td>0.000000</td>\n",
       "      <td>0.000000</td>\n",
       "      <td>100.000000</td>\n",
       "      <td>0.000000</td>\n",
       "      <td>0.00000</td>\n",
       "      <td>0.000000</td>\n",
       "      <td>0.000000</td>\n",
       "      <td>0.000000</td>\n",
       "      <td>...</td>\n",
       "      <td>0.000000</td>\n",
       "      <td>0.00</td>\n",
       "      <td>0.000000</td>\n",
       "      <td>0.000000</td>\n",
       "      <td>0.000000</td>\n",
       "      <td>0.000000</td>\n",
       "      <td>0.000000</td>\n",
       "      <td>0.000000</td>\n",
       "      <td>0.000000</td>\n",
       "      <td>0.000000</td>\n",
       "    </tr>\n",
       "    <tr>\n",
       "      <th>9</th>\n",
       "      <td>Niacin</td>\n",
       "      <td>19.750000</td>\n",
       "      <td>0.000000</td>\n",
       "      <td>124.375000</td>\n",
       "      <td>19.125000</td>\n",
       "      <td>0.000000</td>\n",
       "      <td>0.00000</td>\n",
       "      <td>0.000000</td>\n",
       "      <td>0.000000</td>\n",
       "      <td>0.000000</td>\n",
       "      <td>...</td>\n",
       "      <td>1.237500</td>\n",
       "      <td>0.00</td>\n",
       "      <td>0.081250</td>\n",
       "      <td>0.675000</td>\n",
       "      <td>0.000000</td>\n",
       "      <td>41.687500</td>\n",
       "      <td>0.000000</td>\n",
       "      <td>0.000000</td>\n",
       "      <td>0.000000</td>\n",
       "      <td>0.000000</td>\n",
       "    </tr>\n",
       "    <tr>\n",
       "      <th>10</th>\n",
       "      <td>Pantothenic acid</td>\n",
       "      <td>0.000000</td>\n",
       "      <td>0.000000</td>\n",
       "      <td>0.000000</td>\n",
       "      <td>15.940000</td>\n",
       "      <td>0.000000</td>\n",
       "      <td>0.00000</td>\n",
       "      <td>0.000000</td>\n",
       "      <td>0.000000</td>\n",
       "      <td>0.000000</td>\n",
       "      <td>...</td>\n",
       "      <td>0.000000</td>\n",
       "      <td>0.00</td>\n",
       "      <td>0.000000</td>\n",
       "      <td>0.000000</td>\n",
       "      <td>0.000000</td>\n",
       "      <td>0.000000</td>\n",
       "      <td>0.000000</td>\n",
       "      <td>0.000000</td>\n",
       "      <td>0.000000</td>\n",
       "      <td>0.000000</td>\n",
       "    </tr>\n",
       "    <tr>\n",
       "      <th>11</th>\n",
       "      <td>Phosphorus, P</td>\n",
       "      <td>40.640000</td>\n",
       "      <td>0.000000</td>\n",
       "      <td>20.160000</td>\n",
       "      <td>35.200000</td>\n",
       "      <td>0.000000</td>\n",
       "      <td>0.00000</td>\n",
       "      <td>0.000000</td>\n",
       "      <td>0.000000</td>\n",
       "      <td>0.000000</td>\n",
       "      <td>...</td>\n",
       "      <td>5.040000</td>\n",
       "      <td>0.00</td>\n",
       "      <td>0.320000</td>\n",
       "      <td>1.440000</td>\n",
       "      <td>0.000000</td>\n",
       "      <td>26.640000</td>\n",
       "      <td>0.000000</td>\n",
       "      <td>0.000000</td>\n",
       "      <td>0.000000</td>\n",
       "      <td>0.000000</td>\n",
       "    </tr>\n",
       "    <tr>\n",
       "      <th>12</th>\n",
       "      <td>Potassium, K</td>\n",
       "      <td>15.914894</td>\n",
       "      <td>0.000000</td>\n",
       "      <td>11.574468</td>\n",
       "      <td>30.638298</td>\n",
       "      <td>2.340426</td>\n",
       "      <td>0.93617</td>\n",
       "      <td>1.510638</td>\n",
       "      <td>0.000000</td>\n",
       "      <td>0.000000</td>\n",
       "      <td>...</td>\n",
       "      <td>7.319149</td>\n",
       "      <td>0.00</td>\n",
       "      <td>0.042553</td>\n",
       "      <td>1.510638</td>\n",
       "      <td>0.000000</td>\n",
       "      <td>5.680851</td>\n",
       "      <td>0.000000</td>\n",
       "      <td>0.000000</td>\n",
       "      <td>0.000000</td>\n",
       "      <td>4.723404</td>\n",
       "    </tr>\n",
       "    <tr>\n",
       "      <th>13</th>\n",
       "      <td>Protein</td>\n",
       "      <td>42.000000</td>\n",
       "      <td>0.000000</td>\n",
       "      <td>57.800000</td>\n",
       "      <td>35.200000</td>\n",
       "      <td>0.000000</td>\n",
       "      <td>0.84000</td>\n",
       "      <td>0.000000</td>\n",
       "      <td>3.340000</td>\n",
       "      <td>4.700000</td>\n",
       "      <td>...</td>\n",
       "      <td>4.800000</td>\n",
       "      <td>1.56</td>\n",
       "      <td>0.000000</td>\n",
       "      <td>0.140000</td>\n",
       "      <td>25.400000</td>\n",
       "      <td>26.600000</td>\n",
       "      <td>2.040000</td>\n",
       "      <td>5.880000</td>\n",
       "      <td>1.880000</td>\n",
       "      <td>2.100000</td>\n",
       "    </tr>\n",
       "    <tr>\n",
       "      <th>14</th>\n",
       "      <td>Riboflavin</td>\n",
       "      <td>72.230769</td>\n",
       "      <td>0.000000</td>\n",
       "      <td>27.923077</td>\n",
       "      <td>22.307692</td>\n",
       "      <td>0.000000</td>\n",
       "      <td>0.00000</td>\n",
       "      <td>0.000000</td>\n",
       "      <td>0.000000</td>\n",
       "      <td>0.000000</td>\n",
       "      <td>...</td>\n",
       "      <td>9.153846</td>\n",
       "      <td>0.00</td>\n",
       "      <td>0.307692</td>\n",
       "      <td>1.153846</td>\n",
       "      <td>0.000000</td>\n",
       "      <td>17.461538</td>\n",
       "      <td>0.000000</td>\n",
       "      <td>0.000000</td>\n",
       "      <td>0.000000</td>\n",
       "      <td>0.000000</td>\n",
       "    </tr>\n",
       "    <tr>\n",
       "      <th>15</th>\n",
       "      <td>Selenium, Se</td>\n",
       "      <td>4.363636</td>\n",
       "      <td>0.000000</td>\n",
       "      <td>123.818182</td>\n",
       "      <td>9.090909</td>\n",
       "      <td>0.000000</td>\n",
       "      <td>0.00000</td>\n",
       "      <td>0.000000</td>\n",
       "      <td>0.000000</td>\n",
       "      <td>0.000000</td>\n",
       "      <td>...</td>\n",
       "      <td>1.636364</td>\n",
       "      <td>0.00</td>\n",
       "      <td>0.000000</td>\n",
       "      <td>0.181818</td>\n",
       "      <td>0.000000</td>\n",
       "      <td>0.000000</td>\n",
       "      <td>0.000000</td>\n",
       "      <td>0.000000</td>\n",
       "      <td>0.000000</td>\n",
       "      <td>0.000000</td>\n",
       "    </tr>\n",
       "    <tr>\n",
       "      <th>16</th>\n",
       "      <td>Sodium, Na</td>\n",
       "      <td>9.869565</td>\n",
       "      <td>2.913043</td>\n",
       "      <td>159.565217</td>\n",
       "      <td>0.695652</td>\n",
       "      <td>0.000000</td>\n",
       "      <td>0.00000</td>\n",
       "      <td>0.260870</td>\n",
       "      <td>13.043478</td>\n",
       "      <td>1.260870</td>\n",
       "      <td>...</td>\n",
       "      <td>7.565217</td>\n",
       "      <td>0.00</td>\n",
       "      <td>0.043478</td>\n",
       "      <td>0.217391</td>\n",
       "      <td>18.173913</td>\n",
       "      <td>0.000000</td>\n",
       "      <td>0.000000</td>\n",
       "      <td>1.782609</td>\n",
       "      <td>22.826087</td>\n",
       "      <td>0.000000</td>\n",
       "    </tr>\n",
       "    <tr>\n",
       "      <th>17</th>\n",
       "      <td>Thiamin</td>\n",
       "      <td>3.416667</td>\n",
       "      <td>0.000000</td>\n",
       "      <td>6.500000</td>\n",
       "      <td>28.333333</td>\n",
       "      <td>0.000000</td>\n",
       "      <td>0.00000</td>\n",
       "      <td>0.000000</td>\n",
       "      <td>0.000000</td>\n",
       "      <td>0.000000</td>\n",
       "      <td>...</td>\n",
       "      <td>7.000000</td>\n",
       "      <td>0.00</td>\n",
       "      <td>0.500000</td>\n",
       "      <td>0.416667</td>\n",
       "      <td>0.000000</td>\n",
       "      <td>0.000000</td>\n",
       "      <td>0.000000</td>\n",
       "      <td>0.000000</td>\n",
       "      <td>0.000000</td>\n",
       "      <td>0.000000</td>\n",
       "    </tr>\n",
       "    <tr>\n",
       "      <th>18</th>\n",
       "      <td>Vitamin A, IU</td>\n",
       "      <td>0.000000</td>\n",
       "      <td>0.000000</td>\n",
       "      <td>0.000000</td>\n",
       "      <td>34.555556</td>\n",
       "      <td>7.222222</td>\n",
       "      <td>0.00000</td>\n",
       "      <td>40.888889</td>\n",
       "      <td>185.555556</td>\n",
       "      <td>261.111111</td>\n",
       "      <td>...</td>\n",
       "      <td>0.000000</td>\n",
       "      <td>0.00</td>\n",
       "      <td>0.000000</td>\n",
       "      <td>0.000000</td>\n",
       "      <td>0.000000</td>\n",
       "      <td>0.000000</td>\n",
       "      <td>34.000000</td>\n",
       "      <td>6.555556</td>\n",
       "      <td>0.000000</td>\n",
       "      <td>0.000000</td>\n",
       "    </tr>\n",
       "    <tr>\n",
       "      <th>19</th>\n",
       "      <td>Vitamin B-12</td>\n",
       "      <td>0.000000</td>\n",
       "      <td>0.000000</td>\n",
       "      <td>36.666667</td>\n",
       "      <td>0.000000</td>\n",
       "      <td>0.000000</td>\n",
       "      <td>0.00000</td>\n",
       "      <td>0.000000</td>\n",
       "      <td>0.000000</td>\n",
       "      <td>0.000000</td>\n",
       "      <td>...</td>\n",
       "      <td>0.000000</td>\n",
       "      <td>0.00</td>\n",
       "      <td>0.000000</td>\n",
       "      <td>0.000000</td>\n",
       "      <td>0.000000</td>\n",
       "      <td>0.000000</td>\n",
       "      <td>0.000000</td>\n",
       "      <td>0.000000</td>\n",
       "      <td>0.000000</td>\n",
       "      <td>0.000000</td>\n",
       "    </tr>\n",
       "    <tr>\n",
       "      <th>20</th>\n",
       "      <td>Vitamin B-6</td>\n",
       "      <td>6.058824</td>\n",
       "      <td>0.000000</td>\n",
       "      <td>11.941176</td>\n",
       "      <td>38.235294</td>\n",
       "      <td>0.000000</td>\n",
       "      <td>0.00000</td>\n",
       "      <td>0.000000</td>\n",
       "      <td>0.000000</td>\n",
       "      <td>0.000000</td>\n",
       "      <td>...</td>\n",
       "      <td>8.529412</td>\n",
       "      <td>0.00</td>\n",
       "      <td>0.058824</td>\n",
       "      <td>2.941176</td>\n",
       "      <td>0.000000</td>\n",
       "      <td>26.117647</td>\n",
       "      <td>0.000000</td>\n",
       "      <td>0.000000</td>\n",
       "      <td>0.000000</td>\n",
       "      <td>0.000000</td>\n",
       "    </tr>\n",
       "    <tr>\n",
       "      <th>21</th>\n",
       "      <td>Vitamin C, total ascorbic acid</td>\n",
       "      <td>0.000000</td>\n",
       "      <td>0.000000</td>\n",
       "      <td>0.000000</td>\n",
       "      <td>23.333333</td>\n",
       "      <td>3.444444</td>\n",
       "      <td>0.00000</td>\n",
       "      <td>19.555556</td>\n",
       "      <td>0.000000</td>\n",
       "      <td>15.666667</td>\n",
       "      <td>...</td>\n",
       "      <td>34.777778</td>\n",
       "      <td>0.00</td>\n",
       "      <td>0.000000</td>\n",
       "      <td>0.000000</td>\n",
       "      <td>0.000000</td>\n",
       "      <td>0.000000</td>\n",
       "      <td>20.444444</td>\n",
       "      <td>0.777778</td>\n",
       "      <td>0.000000</td>\n",
       "      <td>14.000000</td>\n",
       "    </tr>\n",
       "    <tr>\n",
       "      <th>22</th>\n",
       "      <td>Vitamin D (D2 + D3)</td>\n",
       "      <td>0.000000</td>\n",
       "      <td>0.000000</td>\n",
       "      <td>8.500000</td>\n",
       "      <td>0.000000</td>\n",
       "      <td>0.000000</td>\n",
       "      <td>0.00000</td>\n",
       "      <td>0.000000</td>\n",
       "      <td>0.000000</td>\n",
       "      <td>0.000000</td>\n",
       "      <td>...</td>\n",
       "      <td>0.000000</td>\n",
       "      <td>0.00</td>\n",
       "      <td>0.000000</td>\n",
       "      <td>0.000000</td>\n",
       "      <td>0.000000</td>\n",
       "      <td>0.000000</td>\n",
       "      <td>0.000000</td>\n",
       "      <td>0.000000</td>\n",
       "      <td>0.000000</td>\n",
       "      <td>0.000000</td>\n",
       "    </tr>\n",
       "    <tr>\n",
       "      <th>23</th>\n",
       "      <td>Vitamin E (alpha-tocopherol)</td>\n",
       "      <td>161.333333</td>\n",
       "      <td>0.000000</td>\n",
       "      <td>22.200000</td>\n",
       "      <td>0.000000</td>\n",
       "      <td>0.000000</td>\n",
       "      <td>0.00000</td>\n",
       "      <td>0.000000</td>\n",
       "      <td>0.000000</td>\n",
       "      <td>0.000000</td>\n",
       "      <td>...</td>\n",
       "      <td>9.066667</td>\n",
       "      <td>0.00</td>\n",
       "      <td>0.000000</td>\n",
       "      <td>0.000000</td>\n",
       "      <td>0.000000</td>\n",
       "      <td>0.000000</td>\n",
       "      <td>0.000000</td>\n",
       "      <td>0.000000</td>\n",
       "      <td>0.000000</td>\n",
       "      <td>0.000000</td>\n",
       "    </tr>\n",
       "    <tr>\n",
       "      <th>24</th>\n",
       "      <td>Vitamin K (Dihydrophylloquinone)</td>\n",
       "      <td>0.000000</td>\n",
       "      <td>0.000000</td>\n",
       "      <td>0.000000</td>\n",
       "      <td>0.000000</td>\n",
       "      <td>0.000000</td>\n",
       "      <td>0.00000</td>\n",
       "      <td>0.000000</td>\n",
       "      <td>0.000000</td>\n",
       "      <td>0.000000</td>\n",
       "      <td>...</td>\n",
       "      <td>0.000000</td>\n",
       "      <td>0.00</td>\n",
       "      <td>0.000000</td>\n",
       "      <td>0.000000</td>\n",
       "      <td>0.000000</td>\n",
       "      <td>0.000000</td>\n",
       "      <td>0.000000</td>\n",
       "      <td>0.000000</td>\n",
       "      <td>0.000000</td>\n",
       "      <td>0.000000</td>\n",
       "    </tr>\n",
       "    <tr>\n",
       "      <th>25</th>\n",
       "      <td>Zinc, Zn</td>\n",
       "      <td>29.909091</td>\n",
       "      <td>0.000000</td>\n",
       "      <td>22.181818</td>\n",
       "      <td>48.181818</td>\n",
       "      <td>0.000000</td>\n",
       "      <td>0.00000</td>\n",
       "      <td>0.000000</td>\n",
       "      <td>0.000000</td>\n",
       "      <td>0.000000</td>\n",
       "      <td>...</td>\n",
       "      <td>1.090909</td>\n",
       "      <td>0.00</td>\n",
       "      <td>0.363636</td>\n",
       "      <td>1.090909</td>\n",
       "      <td>0.000000</td>\n",
       "      <td>30.272727</td>\n",
       "      <td>0.000000</td>\n",
       "      <td>0.000000</td>\n",
       "      <td>0.000000</td>\n",
       "      <td>0.000000</td>\n",
       "    </tr>\n",
       "  </tbody>\n",
       "</table>\n",
       "<p>26 rows × 294 columns</p>\n",
       "</div>"
      ],
      "text/plain": [
       "                          Unnamed: 0      almond  amaretto     anchovy  \\\n",
       "0                        Calcium, Ca   26.692308  0.000000   17.846154   \n",
       "1                        Cholesterol    0.000000  0.000000   28.333333   \n",
       "2                     Choline, total    9.472727  0.000000   15.454545   \n",
       "3                         Copper, Cu  103.777778  0.000000   37.666667   \n",
       "4       Fatty acids, total saturated    8.397436  4.269231    2.820513   \n",
       "5                      Folate, total   13.250000  0.000000    3.250000   \n",
       "6                           Iron, Fe   19.388889  0.000000   25.722222   \n",
       "7                      Magnesium, Mg   66.428571  0.000000   16.428571   \n",
       "8                      Manganese, Mn    0.000000  0.000000    0.000000   \n",
       "9                             Niacin   19.750000  0.000000  124.375000   \n",
       "10                  Pantothenic acid    0.000000  0.000000    0.000000   \n",
       "11                     Phosphorus, P   40.640000  0.000000   20.160000   \n",
       "12                      Potassium, K   15.914894  0.000000   11.574468   \n",
       "13                           Protein   42.000000  0.000000   57.800000   \n",
       "14                        Riboflavin   72.230769  0.000000   27.923077   \n",
       "15                      Selenium, Se    4.363636  0.000000  123.818182   \n",
       "16                        Sodium, Na    9.869565  2.913043  159.565217   \n",
       "17                           Thiamin    3.416667  0.000000    6.500000   \n",
       "18                     Vitamin A, IU    0.000000  0.000000    0.000000   \n",
       "19                      Vitamin B-12    0.000000  0.000000   36.666667   \n",
       "20                       Vitamin B-6    6.058824  0.000000   11.941176   \n",
       "21    Vitamin C, total ascorbic acid    0.000000  0.000000    0.000000   \n",
       "22               Vitamin D (D2 + D3)    0.000000  0.000000    8.500000   \n",
       "23      Vitamin E (alpha-tocopherol)  161.333333  0.000000   22.200000   \n",
       "24  Vitamin K (Dihydrophylloquinone)    0.000000  0.000000    0.000000   \n",
       "25                          Zinc, Zn   29.909091  0.000000   22.181818   \n",
       "\n",
       "         anise     apple  apple juice    apricot   artichoke     arugula  ...  \\\n",
       "0    49.692308  0.000000      0.00000   0.000000    0.000000   13.538462  ...   \n",
       "1     0.000000  0.000000      0.00000   0.000000    0.000000    0.000000  ...   \n",
       "2     0.000000  0.000000      0.00000   0.000000    0.000000    0.000000  ...   \n",
       "3   101.111111  0.000000      0.00000   0.000000    0.000000    0.000000  ...   \n",
       "4     0.751282  0.000000      0.00000   0.000000    2.141026    0.000000  ...   \n",
       "5     2.500000  0.000000      0.00000   0.000000    0.000000    0.000000  ...   \n",
       "6   205.555556  1.277778      0.00000   0.000000    3.333333    7.055556  ...   \n",
       "7    40.476190  0.000000      0.00000   0.000000    0.000000    0.000000  ...   \n",
       "8   100.000000  0.000000      0.00000   0.000000    0.000000    0.000000  ...   \n",
       "9    19.125000  0.000000      0.00000   0.000000    0.000000    0.000000  ...   \n",
       "10   15.940000  0.000000      0.00000   0.000000    0.000000    0.000000  ...   \n",
       "11   35.200000  0.000000      0.00000   0.000000    0.000000    0.000000  ...   \n",
       "12   30.638298  2.340426      0.93617   1.510638    0.000000    0.000000  ...   \n",
       "13   35.200000  0.000000      0.84000   0.000000    3.340000    4.700000  ...   \n",
       "14   22.307692  0.000000      0.00000   0.000000    0.000000    0.000000  ...   \n",
       "15    9.090909  0.000000      0.00000   0.000000    0.000000    0.000000  ...   \n",
       "16    0.695652  0.000000      0.00000   0.260870   13.043478    1.260870  ...   \n",
       "17   28.333333  0.000000      0.00000   0.000000    0.000000    0.000000  ...   \n",
       "18   34.555556  7.222222      0.00000  40.888889  185.555556  261.111111  ...   \n",
       "19    0.000000  0.000000      0.00000   0.000000    0.000000    0.000000  ...   \n",
       "20   38.235294  0.000000      0.00000   0.000000    0.000000    0.000000  ...   \n",
       "21   23.333333  3.444444      0.00000  19.555556    0.000000   15.666667  ...   \n",
       "22    0.000000  0.000000      0.00000   0.000000    0.000000    0.000000  ...   \n",
       "23    0.000000  0.000000      0.00000   0.000000    0.000000    0.000000  ...   \n",
       "24    0.000000  0.000000      0.00000   0.000000    0.000000    0.000000  ...   \n",
       "25   48.181818  0.000000      0.00000   0.000000    0.000000    0.000000  ...   \n",
       "\n",
       "    watercress  watermelon   whiskey  white wine  whole wheat  wild rice  \\\n",
       "0     9.615385        0.00  0.000000    0.692308     7.769231   0.000000   \n",
       "1     0.666667        0.00  0.000000    0.000000     0.000000   0.000000   \n",
       "2     1.745455        0.00  0.000000    0.781818     0.000000   0.000000   \n",
       "3     8.888889        0.00  2.333333    0.444444     0.000000   0.000000   \n",
       "4     1.029487        0.00  0.000000    0.000000     1.628205   0.000000   \n",
       "5     1.750000        0.00  0.000000    0.250000     0.000000   0.000000   \n",
       "6     1.166667        0.00  0.222222    1.500000    12.666667   8.888889   \n",
       "7     5.238095        0.00  0.000000    2.380952     0.000000   0.000000   \n",
       "8     0.000000        0.00  0.000000    0.000000     0.000000   0.000000   \n",
       "9     1.237500        0.00  0.081250    0.675000     0.000000  41.687500   \n",
       "10    0.000000        0.00  0.000000    0.000000     0.000000   0.000000   \n",
       "11    5.040000        0.00  0.320000    1.440000     0.000000  26.640000   \n",
       "12    7.319149        0.00  0.042553    1.510638     0.000000   5.680851   \n",
       "13    4.800000        1.56  0.000000    0.140000    25.400000  26.600000   \n",
       "14    9.153846        0.00  0.307692    1.153846     0.000000  17.461538   \n",
       "15    1.636364        0.00  0.000000    0.181818     0.000000   0.000000   \n",
       "16    7.565217        0.00  0.043478    0.217391    18.173913   0.000000   \n",
       "17    7.000000        0.00  0.500000    0.416667     0.000000   0.000000   \n",
       "18    0.000000        0.00  0.000000    0.000000     0.000000   0.000000   \n",
       "19    0.000000        0.00  0.000000    0.000000     0.000000   0.000000   \n",
       "20    8.529412        0.00  0.058824    2.941176     0.000000  26.117647   \n",
       "21   34.777778        0.00  0.000000    0.000000     0.000000   0.000000   \n",
       "22    0.000000        0.00  0.000000    0.000000     0.000000   0.000000   \n",
       "23    9.066667        0.00  0.000000    0.000000     0.000000   0.000000   \n",
       "24    0.000000        0.00  0.000000    0.000000     0.000000   0.000000   \n",
       "25    1.090909        0.00  0.363636    1.090909     0.000000  30.272727   \n",
       "\n",
       "    yellow squash    yogurt       yuca   zucchini  \n",
       "0        1.538462  9.076923   0.000000   1.615385  \n",
       "1        0.000000  4.000000   0.000000   0.000000  \n",
       "2        0.000000  0.000000   0.000000   0.000000  \n",
       "3        0.000000  0.000000   0.000000   0.000000  \n",
       "4        0.000000  2.256410   0.000000   0.000000  \n",
       "5        0.000000  0.000000   0.000000   0.000000  \n",
       "6        2.055556  0.000000   0.000000   2.444444  \n",
       "7        0.000000  0.000000   0.000000   0.000000  \n",
       "8        0.000000  0.000000   0.000000   0.000000  \n",
       "9        0.000000  0.000000   0.000000   0.000000  \n",
       "10       0.000000  0.000000   0.000000   0.000000  \n",
       "11       0.000000  0.000000   0.000000   0.000000  \n",
       "12       0.000000  0.000000   0.000000   4.723404  \n",
       "13       2.040000  5.880000   1.880000   2.100000  \n",
       "14       0.000000  0.000000   0.000000   0.000000  \n",
       "15       0.000000  0.000000   0.000000   0.000000  \n",
       "16       0.000000  1.782609  22.826087   0.000000  \n",
       "17       0.000000  0.000000   0.000000   0.000000  \n",
       "18      34.000000  6.555556   0.000000   0.000000  \n",
       "19       0.000000  0.000000   0.000000   0.000000  \n",
       "20       0.000000  0.000000   0.000000   0.000000  \n",
       "21      20.444444  0.777778   0.000000  14.000000  \n",
       "22       0.000000  0.000000   0.000000   0.000000  \n",
       "23       0.000000  0.000000   0.000000   0.000000  \n",
       "24       0.000000  0.000000   0.000000   0.000000  \n",
       "25       0.000000  0.000000   0.000000   0.000000  \n",
       "\n",
       "[26 rows x 294 columns]"
      ]
     },
     "execution_count": 144,
     "metadata": {},
     "output_type": "execute_result"
    }
   ],
   "source": [
    "df_nutr_check"
   ]
  },
  {
   "cell_type": "markdown",
   "id": "31b377a0",
   "metadata": {},
   "source": [
    "## 3. Похожие рецепты"
   ]
  },
  {
   "cell_type": "code",
   "execution_count": null,
   "id": "77048d03",
   "metadata": {},
   "outputs": [],
   "source": [
    "recepies=df_clean.copy()"
   ]
  },
  {
   "cell_type": "code",
   "execution_count": null,
   "id": "76daeb55",
   "metadata": {},
   "outputs": [],
   "source": [
    "rep_name=recipes #создаем новый датафрейм для парсинга и в нем создаем новую колонку, где меняем формат названия для парсинга\n",
    "rep_name['title4parse']=rep_name['title'] #создаем колонку названий в формате для парсинга\n",
    "rep_name['title4parse']=rep_name['title4parse'].replace(' ', '%20', regex=True)#удаляем пробелы\n",
    "rep_name['title4parse']=rep_name['title4parse'].replace('’', '', regex=True) #убрали запятую сверху\n",
    "rep_name['title4parse']=rep_name['title4parse'].replace(\"'s\", 's', regex=True) #убрали аппостроф\n",
    "#удаляем множественные пробелы\n",
    "rep_name['title4parse']=rep_name['title4parse'].replace('\\r\\n%20%20%20%20%20%20%20%20%20%20%20%20%20%20%20%20', '%20', regex=True)\n",
    "rep_name['title4parse']=rep_name['title4parse'].replace('/', '%20', regex=True) #убрали \n",
    "rep_name['title4parse']=rep_name.apply((lambda x: unidecode.unidecode(x['title4parse'])), axis=1)#убираем ударения, умляуты и тп\n"
   ]
  },
  {
   "cell_type": "code",
   "execution_count": null,
   "id": "fba9ab31",
   "metadata": {},
   "outputs": [],
   "source": [
    "#собственно код для парсинга\n",
    "result_dict = {'title': [], 'rating': [], 'link': []}\n",
    "rep_link=[]\n",
    "not_found=[]\n",
    "for i in range(len(rep_name)):\n",
    "    \n",
    "    item=first_part.iloc[i, 2]\n",
    "    result_dict['title'].append(first_part.iloc[i, 0])\n",
    "    result_dict['rating'].append(first_part.iloc[i, 1])\n",
    "    \n",
    "    url ='http://www.epicurious.com/search/{}?content=recipe'.format(item)\n",
    "    request=requests.get(url)   \n",
    "\n",
    "    try:\n",
    "        soup = BeautifulSoup(urllib.request.urlopen(urllib.request.Request(url)).read(), \"html.parser\")\n",
    "        recipe_link_items = soup.select('div.results-group article.recipe-content-card a.view-complete-item')\n",
    "        recipe_links = [r['href'] for r in recipe_link_items]\n",
    "        recipe_link = 'http://www.epicurious.com'+ recipe_links[0]\n",
    "        result_dict['link'].append(recipe_link)\n",
    "        rep_link.append(recipe_link)\n",
    "        print(len(rep_link))\n",
    "        print(recipe_link)\n",
    "    except(HTTPError, URLError, ValueError, TypeError):\n",
    "        pass\n",
    "        result_dict['link'].append('https://ekb.levelkitchen.com')\n",
    "        not_found.append(first_part.iloc[i, 0])"
   ]
  },
  {
   "cell_type": "code",
   "execution_count": null,
   "id": "4d6dd7e9",
   "metadata": {},
   "outputs": [],
   "source": [
    "parsed_data=pd.DataFrame(result_dict)"
   ]
  },
  {
   "cell_type": "code",
   "execution_count": null,
   "id": "f4d5e8d1",
   "metadata": {},
   "outputs": [],
   "source": [
    "df_for_recepies_new=recipes.merge(parsed_data, on='title', how='inner')"
   ]
  },
  {
   "cell_type": "code",
   "execution_count": 129,
   "id": "b79b33cf",
   "metadata": {},
   "outputs": [],
   "source": [
    "df_for_recepies_new=pd.read_csv('data/parsed_recepies.csv', index_col=0)"
   ]
  },
  {
   "cell_type": "markdown",
   "id": "39bd46d0",
   "metadata": {},
   "source": [
    "Выше сохранен данный файл, чтобы из него подготовить датафреймы для второго варианта программы. Из данного файла были отобраны только рецепты  подходящие для определенной категории приема пищи (завтрак, обед или ужин), только с высоким рейтингом (4 и выше) и наиболее питательные для данной категории приема пищи (с наибольшим покрытием суточной потребности по пищевой ценности) - это было сделано в отдельном ноутбуке. "
   ]
  },
  {
   "cell_type": "code",
   "execution_count": 130,
   "id": "ce3e83d7",
   "metadata": {},
   "outputs": [
    {
     "data": {
      "text/plain": [
       "(17736, 308)"
      ]
     },
     "execution_count": 130,
     "metadata": {},
     "output_type": "execute_result"
    }
   ],
   "source": [
    "df_for_recepies_new.shape"
   ]
  },
  {
   "cell_type": "code",
   "execution_count": 131,
   "id": "bee2afdf",
   "metadata": {},
   "outputs": [
    {
     "data": {
      "text/html": [
       "<div>\n",
       "<style scoped>\n",
       "    .dataframe tbody tr th:only-of-type {\n",
       "        vertical-align: middle;\n",
       "    }\n",
       "\n",
       "    .dataframe tbody tr th {\n",
       "        vertical-align: top;\n",
       "    }\n",
       "\n",
       "    .dataframe thead th {\n",
       "        text-align: right;\n",
       "    }\n",
       "</style>\n",
       "<table border=\"1\" class=\"dataframe\">\n",
       "  <thead>\n",
       "    <tr style=\"text-align: right;\">\n",
       "      <th></th>\n",
       "      <th>title</th>\n",
       "      <th>rating_x</th>\n",
       "      <th>calories</th>\n",
       "      <th>protein</th>\n",
       "      <th>fat</th>\n",
       "      <th>sodium</th>\n",
       "      <th>breakfast</th>\n",
       "      <th>lunch</th>\n",
       "      <th>dinner</th>\n",
       "      <th>almond</th>\n",
       "      <th>...</th>\n",
       "      <th>white wine</th>\n",
       "      <th>whole wheat</th>\n",
       "      <th>wild rice</th>\n",
       "      <th>yellow squash</th>\n",
       "      <th>yogurt</th>\n",
       "      <th>yuca</th>\n",
       "      <th>zucchini</th>\n",
       "      <th>turkey</th>\n",
       "      <th>rating_y</th>\n",
       "      <th>link</th>\n",
       "    </tr>\n",
       "  </thead>\n",
       "  <tbody>\n",
       "    <tr>\n",
       "      <th>0</th>\n",
       "      <td>Lentil, Apple, and Turkey Wrap</td>\n",
       "      <td>2.500</td>\n",
       "      <td>426.0</td>\n",
       "      <td>30.0</td>\n",
       "      <td>7.0</td>\n",
       "      <td>559.0</td>\n",
       "      <td>0.0</td>\n",
       "      <td>0.0</td>\n",
       "      <td>0.0</td>\n",
       "      <td>0.0</td>\n",
       "      <td>...</td>\n",
       "      <td>0.0</td>\n",
       "      <td>0.0</td>\n",
       "      <td>0.0</td>\n",
       "      <td>0.0</td>\n",
       "      <td>0.0</td>\n",
       "      <td>0.0</td>\n",
       "      <td>0.0</td>\n",
       "      <td>1.0</td>\n",
       "      <td>2.500</td>\n",
       "      <td>https://www.epicurious.com/recipes/food/views/...</td>\n",
       "    </tr>\n",
       "    <tr>\n",
       "      <th>1</th>\n",
       "      <td>Boudin Blanc Terrine with Red Onion Confit</td>\n",
       "      <td>4.375</td>\n",
       "      <td>403.0</td>\n",
       "      <td>18.0</td>\n",
       "      <td>23.0</td>\n",
       "      <td>1439.0</td>\n",
       "      <td>0.0</td>\n",
       "      <td>0.0</td>\n",
       "      <td>0.0</td>\n",
       "      <td>0.0</td>\n",
       "      <td>...</td>\n",
       "      <td>0.0</td>\n",
       "      <td>0.0</td>\n",
       "      <td>0.0</td>\n",
       "      <td>0.0</td>\n",
       "      <td>0.0</td>\n",
       "      <td>0.0</td>\n",
       "      <td>0.0</td>\n",
       "      <td>0.0</td>\n",
       "      <td>4.375</td>\n",
       "      <td>https://www.epicurious.com/recipes/food/views/...</td>\n",
       "    </tr>\n",
       "    <tr>\n",
       "      <th>2</th>\n",
       "      <td>Potato and Fennel Soup Hodge</td>\n",
       "      <td>3.750</td>\n",
       "      <td>165.0</td>\n",
       "      <td>6.0</td>\n",
       "      <td>7.0</td>\n",
       "      <td>165.0</td>\n",
       "      <td>0.0</td>\n",
       "      <td>0.0</td>\n",
       "      <td>0.0</td>\n",
       "      <td>0.0</td>\n",
       "      <td>...</td>\n",
       "      <td>0.0</td>\n",
       "      <td>0.0</td>\n",
       "      <td>0.0</td>\n",
       "      <td>0.0</td>\n",
       "      <td>0.0</td>\n",
       "      <td>0.0</td>\n",
       "      <td>0.0</td>\n",
       "      <td>0.0</td>\n",
       "      <td>3.750</td>\n",
       "      <td>https://www.epicurious.com/recipes/food/views/...</td>\n",
       "    </tr>\n",
       "  </tbody>\n",
       "</table>\n",
       "<p>3 rows × 308 columns</p>\n",
       "</div>"
      ],
      "text/plain": [
       "                                         title  rating_x  calories  protein  \\\n",
       "0              Lentil, Apple, and Turkey Wrap      2.500     426.0     30.0   \n",
       "1  Boudin Blanc Terrine with Red Onion Confit      4.375     403.0     18.0   \n",
       "2                Potato and Fennel Soup Hodge      3.750     165.0      6.0   \n",
       "\n",
       "    fat  sodium  breakfast  lunch  dinner  almond  ...  white wine  \\\n",
       "0   7.0   559.0        0.0    0.0     0.0     0.0  ...         0.0   \n",
       "1  23.0  1439.0        0.0    0.0     0.0     0.0  ...         0.0   \n",
       "2   7.0   165.0        0.0    0.0     0.0     0.0  ...         0.0   \n",
       "\n",
       "   whole wheat  wild rice  yellow squash  yogurt  yuca  zucchini  turkey  \\\n",
       "0          0.0        0.0            0.0     0.0   0.0       0.0     1.0   \n",
       "1          0.0        0.0            0.0     0.0   0.0       0.0     0.0   \n",
       "2          0.0        0.0            0.0     0.0   0.0       0.0     0.0   \n",
       "\n",
       "   rating_y                                               link  \n",
       "0     2.500  https://www.epicurious.com/recipes/food/views/...  \n",
       "1     4.375  https://www.epicurious.com/recipes/food/views/...  \n",
       "2     3.750  https://www.epicurious.com/recipes/food/views/...  \n",
       "\n",
       "[3 rows x 308 columns]"
      ]
     },
     "execution_count": 131,
     "metadata": {},
     "output_type": "execute_result"
    }
   ],
   "source": [
    "df_for_recepies_new.head(3)"
   ]
  },
  {
   "cell_type": "code",
   "execution_count": 84,
   "id": "9afb4f1c",
   "metadata": {},
   "outputs": [],
   "source": [
    "df_for_recepies=df_for_recepies_new.reindex(columns=['title', 'rating_x', 'link', 'almond','amaretto', 'anchovy', 'anise', \n",
    "                                                     'apple', 'apple juice', 'apricot', 'artichoke', 'arugula', 'asian pear', \n",
    "            'asparagus', 'avocado', 'bacon', 'banana', 'barley', 'basil', 'bass', 'bean', 'beef', 'beef rib', 'beef shank',\n",
    "            'beef tenderloin', 'beer', 'bitters', 'blackberry', 'beet', 'bell pepper', 'blue cheese', 'blueberry', 'bourbon',\n",
    "            'bran', 'brandy','bread', 'breadcrumbs', 'brine', 'brisket', 'broccoli', 'broccoli rabe', 'brown rice',\n",
    "            'brussel sprout', 'bulgur', 'butter', 'buttermilk', 'butternut squash', 'caramel', 'cabbage',\n",
    "            'calvados', 'campari', 'candy', 'cantaloupe', 'capers', 'caraway', 'cardamom', 'carrot',  'cashew', 'cauliflower',\n",
    "            'caviar', 'celery', 'champagne', 'chard', 'chartreuse', 'cheddar', 'cheese', 'cherry', 'chestnut', 'chicken',\n",
    "            'chickpea', 'chile pepper', 'chili', 'chocolate', 'cilantro', 'cinnamon', 'clam', 'clove', 'coconut', 'cod',\n",
    "            'coffee', 'cognac', 'collard greens', 'coriander', 'corn', 'cornmeal', 'cottage cheese', 'couscous',\n",
    "            'crab', 'cranberry', 'cranberry sauce', 'cream cheese', 'créme de cacao', 'cucumber', 'cumin', 'currant', 'curry',\n",
    "            'custard', 'dill', 'duck', 'eau de vie', 'egg', 'eggplant', 'endive', 'fennel', 'feta', 'fig', 'flat bread', \n",
    "            'fish', 'fontina', 'fortified wine', 'frangelico', 'garlic', 'gin', 'ginger', 'goat cheese', 'goose',\n",
    "            'gouda', 'granola', 'grape',  'grapefruit', 'green bean', 'green onion', 'ground beef', 'ground lamb', \n",
    "            'guava', 'halibut', 'ham', 'hazelnut', 'cornmeal', 'honey', 'horseradish', 'hot pepper', 'ice cream',\n",
    "            'jalapeno', 'jerusalem artichoke', 'jicama', 'kahlua', 'kirsch', 'kiwi', 'kumquat', 'lamb', 'lamb shank',\n",
    "             'leek', 'lemon', 'lemon juice', 'lemongrass', 'lentil', 'lettuce', 'lima bean', 'lime', 'lime juice',\n",
    "            'lingonberry', 'liqueur', 'lobster', 'lychee', 'macadamia nut', 'mango', 'maple syrup', 'mascarpone', \n",
    "            'marshmallow', 'martini', 'meat', 'melon', 'milk', 'mint', 'molasses', 'mozzarella', 'mushroom', 'mussel',\n",
    "            'mustard', 'mustard greens', 'nectarine', 'noodle', 'nut', 'nutmeg', 'oat', 'oatmeal', 'octopus','okra', 'olive', \n",
    "             'onion', 'orange', 'orange juice', 'oregano', 'orzo', 'oyster', 'papaya', 'paprika', 'parmesan', 'parsley', \n",
    "            'passion fruit', 'pasta','pastry', 'pea', 'peach', 'peanut', 'peanut butter', 'pear', 'pepper', \n",
    "            'persimmon', 'pine nut', 'pineapple', 'pistachio', 'plum', 'poblano', 'pomegranate', 'pomegranate juice',\n",
    "            'pork', 'pork rib', 'pork tenderloin', 'potato', 'poultry', 'prosciutto', 'prune', 'pumpkin', 'quail',\n",
    "            'quince', 'quinoa', 'rabbit', 'rack of lamb', 'radicchio', 'radish', 'raisin', 'raspberry', 'rhubarb', 'red wine',\n",
    "            'rice', 'ricotta', 'rosemary', 'rum', 'rutabaga', 'rye', 'saffron', 'sage', 'sake', 'salad', 'salmon', 'salsa', \n",
    "            'sangria', 'sardine', 'sausage', 'scallop', 'scotch', 'seafood', 'semolina', 'shellfish',\n",
    "            'sesame', 'sesame oil', 'shallot', 'sherry', 'shrimp', 'snapper', 'sorbet', 'sour cream', 'soy', 'soy sauce',\n",
    "            'sparkling wine', 'spinach', 'squash', 'squid', 'strawberry', 'sugar snap pea', 'sweet potato',            \n",
    "           'swiss cheese', 'swordfish', 'tamarind', 'tangerine', 'tapioca', 'tarragon', 'tea', 'tequila',\n",
    "            'thyme', 'tilapia', 'tofu', 'tomatillo', 'tomato', 'tortillas', 'tree nut', 'trout', 'tuna',\n",
    "            'turnip', 'vanilla', 'veal', 'venison', 'vermouth', 'vinegar', 'vodka',\n",
    "            'walnut', 'wasabi', 'watercress', 'watermelon', 'whiskey', 'white wine',  'whole wheat', 'wild rice',\n",
    "            'yellow squash', 'yogurt', 'yuca', 'zucchini', 'turkey'])"
   ]
  },
  {
   "cell_type": "code",
   "execution_count": 85,
   "id": "d56f62cb",
   "metadata": {},
   "outputs": [],
   "source": [
    "df_for_recepies_1=df_for_recepies.reset_index()"
   ]
  },
  {
   "cell_type": "code",
   "execution_count": 88,
   "id": "30706177",
   "metadata": {},
   "outputs": [],
   "source": [
    "df_for_recepies_1=df_for_recepies_1.drop('index', axis=1)"
   ]
  },
  {
   "cell_type": "code",
   "execution_count": 89,
   "id": "69ef439d",
   "metadata": {},
   "outputs": [
    {
     "data": {
      "text/html": [
       "<div>\n",
       "<style scoped>\n",
       "    .dataframe tbody tr th:only-of-type {\n",
       "        vertical-align: middle;\n",
       "    }\n",
       "\n",
       "    .dataframe tbody tr th {\n",
       "        vertical-align: top;\n",
       "    }\n",
       "\n",
       "    .dataframe thead th {\n",
       "        text-align: right;\n",
       "    }\n",
       "</style>\n",
       "<table border=\"1\" class=\"dataframe\">\n",
       "  <thead>\n",
       "    <tr style=\"text-align: right;\">\n",
       "      <th></th>\n",
       "      <th>title</th>\n",
       "      <th>rating_x</th>\n",
       "      <th>link</th>\n",
       "      <th>almond</th>\n",
       "      <th>amaretto</th>\n",
       "      <th>anchovy</th>\n",
       "      <th>anise</th>\n",
       "      <th>apple</th>\n",
       "      <th>apple juice</th>\n",
       "      <th>apricot</th>\n",
       "      <th>...</th>\n",
       "      <th>watermelon</th>\n",
       "      <th>whiskey</th>\n",
       "      <th>white wine</th>\n",
       "      <th>whole wheat</th>\n",
       "      <th>wild rice</th>\n",
       "      <th>yellow squash</th>\n",
       "      <th>yogurt</th>\n",
       "      <th>yuca</th>\n",
       "      <th>zucchini</th>\n",
       "      <th>turkey</th>\n",
       "    </tr>\n",
       "  </thead>\n",
       "  <tbody>\n",
       "    <tr>\n",
       "      <th>0</th>\n",
       "      <td>Lentil, Apple, and Turkey Wrap</td>\n",
       "      <td>2.500</td>\n",
       "      <td>https://www.epicurious.com/recipes/food/views/...</td>\n",
       "      <td>0.0</td>\n",
       "      <td>0.0</td>\n",
       "      <td>0.0</td>\n",
       "      <td>0.0</td>\n",
       "      <td>1.0</td>\n",
       "      <td>0.0</td>\n",
       "      <td>0.0</td>\n",
       "      <td>...</td>\n",
       "      <td>0.0</td>\n",
       "      <td>0.0</td>\n",
       "      <td>0.0</td>\n",
       "      <td>0.0</td>\n",
       "      <td>0.0</td>\n",
       "      <td>0.0</td>\n",
       "      <td>0.0</td>\n",
       "      <td>0.0</td>\n",
       "      <td>0.0</td>\n",
       "      <td>1.0</td>\n",
       "    </tr>\n",
       "    <tr>\n",
       "      <th>1</th>\n",
       "      <td>Boudin Blanc Terrine with Red Onion Confit</td>\n",
       "      <td>4.375</td>\n",
       "      <td>https://www.epicurious.com/recipes/food/views/...</td>\n",
       "      <td>0.0</td>\n",
       "      <td>0.0</td>\n",
       "      <td>0.0</td>\n",
       "      <td>0.0</td>\n",
       "      <td>0.0</td>\n",
       "      <td>0.0</td>\n",
       "      <td>0.0</td>\n",
       "      <td>...</td>\n",
       "      <td>0.0</td>\n",
       "      <td>0.0</td>\n",
       "      <td>0.0</td>\n",
       "      <td>0.0</td>\n",
       "      <td>0.0</td>\n",
       "      <td>0.0</td>\n",
       "      <td>0.0</td>\n",
       "      <td>0.0</td>\n",
       "      <td>0.0</td>\n",
       "      <td>0.0</td>\n",
       "    </tr>\n",
       "    <tr>\n",
       "      <th>2</th>\n",
       "      <td>Potato and Fennel Soup Hodge</td>\n",
       "      <td>3.750</td>\n",
       "      <td>https://www.epicurious.com/recipes/food/views/...</td>\n",
       "      <td>0.0</td>\n",
       "      <td>0.0</td>\n",
       "      <td>0.0</td>\n",
       "      <td>0.0</td>\n",
       "      <td>0.0</td>\n",
       "      <td>0.0</td>\n",
       "      <td>0.0</td>\n",
       "      <td>...</td>\n",
       "      <td>0.0</td>\n",
       "      <td>0.0</td>\n",
       "      <td>0.0</td>\n",
       "      <td>0.0</td>\n",
       "      <td>0.0</td>\n",
       "      <td>0.0</td>\n",
       "      <td>0.0</td>\n",
       "      <td>0.0</td>\n",
       "      <td>0.0</td>\n",
       "      <td>0.0</td>\n",
       "    </tr>\n",
       "  </tbody>\n",
       "</table>\n",
       "<p>3 rows × 300 columns</p>\n",
       "</div>"
      ],
      "text/plain": [
       "                                         title  rating_x  \\\n",
       "0              Lentil, Apple, and Turkey Wrap      2.500   \n",
       "1  Boudin Blanc Terrine with Red Onion Confit      4.375   \n",
       "2                Potato and Fennel Soup Hodge      3.750   \n",
       "\n",
       "                                                link  almond  amaretto  \\\n",
       "0  https://www.epicurious.com/recipes/food/views/...     0.0       0.0   \n",
       "1  https://www.epicurious.com/recipes/food/views/...     0.0       0.0   \n",
       "2  https://www.epicurious.com/recipes/food/views/...     0.0       0.0   \n",
       "\n",
       "   anchovy  anise  apple  apple juice  apricot  ...  watermelon  whiskey  \\\n",
       "0      0.0    0.0    1.0          0.0      0.0  ...         0.0      0.0   \n",
       "1      0.0    0.0    0.0          0.0      0.0  ...         0.0      0.0   \n",
       "2      0.0    0.0    0.0          0.0      0.0  ...         0.0      0.0   \n",
       "\n",
       "   white wine  whole wheat  wild rice  yellow squash  yogurt  yuca  zucchini  \\\n",
       "0         0.0          0.0        0.0            0.0     0.0   0.0       0.0   \n",
       "1         0.0          0.0        0.0            0.0     0.0   0.0       0.0   \n",
       "2         0.0          0.0        0.0            0.0     0.0   0.0       0.0   \n",
       "\n",
       "   turkey  \n",
       "0     1.0  \n",
       "1     0.0  \n",
       "2     0.0  \n",
       "\n",
       "[3 rows x 300 columns]"
      ]
     },
     "execution_count": 89,
     "metadata": {},
     "output_type": "execute_result"
    }
   ],
   "source": [
    "df_for_recepies_1.head(3)"
   ]
  },
  {
   "cell_type": "code",
   "execution_count": 90,
   "id": "7bd0e8ec",
   "metadata": {},
   "outputs": [],
   "source": [
    "df_for_recepies_1.to_csv('data/parsed_recepies_final.csv')"
   ]
  },
  {
   "cell_type": "code",
   "execution_count": 132,
   "id": "2eab3dde",
   "metadata": {},
   "outputs": [],
   "source": [
    "df_for_recepies_check=pd.read_csv('data/parsed_recepies_final.csv', index_col=0)"
   ]
  },
  {
   "cell_type": "code",
   "execution_count": 133,
   "id": "ae1fcbd6",
   "metadata": {},
   "outputs": [
    {
     "data": {
      "text/html": [
       "<div>\n",
       "<style scoped>\n",
       "    .dataframe tbody tr th:only-of-type {\n",
       "        vertical-align: middle;\n",
       "    }\n",
       "\n",
       "    .dataframe tbody tr th {\n",
       "        vertical-align: top;\n",
       "    }\n",
       "\n",
       "    .dataframe thead th {\n",
       "        text-align: right;\n",
       "    }\n",
       "</style>\n",
       "<table border=\"1\" class=\"dataframe\">\n",
       "  <thead>\n",
       "    <tr style=\"text-align: right;\">\n",
       "      <th></th>\n",
       "      <th>title</th>\n",
       "      <th>rating_x</th>\n",
       "      <th>link</th>\n",
       "      <th>almond</th>\n",
       "      <th>amaretto</th>\n",
       "      <th>anchovy</th>\n",
       "      <th>anise</th>\n",
       "      <th>apple</th>\n",
       "      <th>apple juice</th>\n",
       "      <th>apricot</th>\n",
       "      <th>...</th>\n",
       "      <th>watermelon</th>\n",
       "      <th>whiskey</th>\n",
       "      <th>white wine</th>\n",
       "      <th>whole wheat</th>\n",
       "      <th>wild rice</th>\n",
       "      <th>yellow squash</th>\n",
       "      <th>yogurt</th>\n",
       "      <th>yuca</th>\n",
       "      <th>zucchini</th>\n",
       "      <th>turkey</th>\n",
       "    </tr>\n",
       "  </thead>\n",
       "  <tbody>\n",
       "    <tr>\n",
       "      <th>0</th>\n",
       "      <td>Lentil, Apple, and Turkey Wrap</td>\n",
       "      <td>2.500</td>\n",
       "      <td>https://www.epicurious.com/recipes/food/views/...</td>\n",
       "      <td>0.0</td>\n",
       "      <td>0.0</td>\n",
       "      <td>0.0</td>\n",
       "      <td>0.0</td>\n",
       "      <td>1.0</td>\n",
       "      <td>0.0</td>\n",
       "      <td>0.0</td>\n",
       "      <td>...</td>\n",
       "      <td>0.0</td>\n",
       "      <td>0.0</td>\n",
       "      <td>0.0</td>\n",
       "      <td>0.0</td>\n",
       "      <td>0.0</td>\n",
       "      <td>0.0</td>\n",
       "      <td>0.0</td>\n",
       "      <td>0.0</td>\n",
       "      <td>0.0</td>\n",
       "      <td>1.0</td>\n",
       "    </tr>\n",
       "    <tr>\n",
       "      <th>1</th>\n",
       "      <td>Boudin Blanc Terrine with Red Onion Confit</td>\n",
       "      <td>4.375</td>\n",
       "      <td>https://www.epicurious.com/recipes/food/views/...</td>\n",
       "      <td>0.0</td>\n",
       "      <td>0.0</td>\n",
       "      <td>0.0</td>\n",
       "      <td>0.0</td>\n",
       "      <td>0.0</td>\n",
       "      <td>0.0</td>\n",
       "      <td>0.0</td>\n",
       "      <td>...</td>\n",
       "      <td>0.0</td>\n",
       "      <td>0.0</td>\n",
       "      <td>0.0</td>\n",
       "      <td>0.0</td>\n",
       "      <td>0.0</td>\n",
       "      <td>0.0</td>\n",
       "      <td>0.0</td>\n",
       "      <td>0.0</td>\n",
       "      <td>0.0</td>\n",
       "      <td>0.0</td>\n",
       "    </tr>\n",
       "    <tr>\n",
       "      <th>2</th>\n",
       "      <td>Potato and Fennel Soup Hodge</td>\n",
       "      <td>3.750</td>\n",
       "      <td>https://www.epicurious.com/recipes/food/views/...</td>\n",
       "      <td>0.0</td>\n",
       "      <td>0.0</td>\n",
       "      <td>0.0</td>\n",
       "      <td>0.0</td>\n",
       "      <td>0.0</td>\n",
       "      <td>0.0</td>\n",
       "      <td>0.0</td>\n",
       "      <td>...</td>\n",
       "      <td>0.0</td>\n",
       "      <td>0.0</td>\n",
       "      <td>0.0</td>\n",
       "      <td>0.0</td>\n",
       "      <td>0.0</td>\n",
       "      <td>0.0</td>\n",
       "      <td>0.0</td>\n",
       "      <td>0.0</td>\n",
       "      <td>0.0</td>\n",
       "      <td>0.0</td>\n",
       "    </tr>\n",
       "    <tr>\n",
       "      <th>3</th>\n",
       "      <td>Mahi-Mahi in Tomato Olive Sauce</td>\n",
       "      <td>5.000</td>\n",
       "      <td>https://www.epicurious.com/recipes/food/views/...</td>\n",
       "      <td>0.0</td>\n",
       "      <td>0.0</td>\n",
       "      <td>0.0</td>\n",
       "      <td>0.0</td>\n",
       "      <td>0.0</td>\n",
       "      <td>0.0</td>\n",
       "      <td>0.0</td>\n",
       "      <td>...</td>\n",
       "      <td>0.0</td>\n",
       "      <td>0.0</td>\n",
       "      <td>0.0</td>\n",
       "      <td>0.0</td>\n",
       "      <td>0.0</td>\n",
       "      <td>0.0</td>\n",
       "      <td>0.0</td>\n",
       "      <td>0.0</td>\n",
       "      <td>0.0</td>\n",
       "      <td>0.0</td>\n",
       "    </tr>\n",
       "    <tr>\n",
       "      <th>4</th>\n",
       "      <td>Spinach Noodle Casserole</td>\n",
       "      <td>3.125</td>\n",
       "      <td>https://www.epicurious.com/recipes/food/views/...</td>\n",
       "      <td>0.0</td>\n",
       "      <td>0.0</td>\n",
       "      <td>0.0</td>\n",
       "      <td>0.0</td>\n",
       "      <td>0.0</td>\n",
       "      <td>0.0</td>\n",
       "      <td>0.0</td>\n",
       "      <td>...</td>\n",
       "      <td>0.0</td>\n",
       "      <td>0.0</td>\n",
       "      <td>0.0</td>\n",
       "      <td>0.0</td>\n",
       "      <td>0.0</td>\n",
       "      <td>0.0</td>\n",
       "      <td>0.0</td>\n",
       "      <td>0.0</td>\n",
       "      <td>0.0</td>\n",
       "      <td>0.0</td>\n",
       "    </tr>\n",
       "    <tr>\n",
       "      <th>...</th>\n",
       "      <td>...</td>\n",
       "      <td>...</td>\n",
       "      <td>...</td>\n",
       "      <td>...</td>\n",
       "      <td>...</td>\n",
       "      <td>...</td>\n",
       "      <td>...</td>\n",
       "      <td>...</td>\n",
       "      <td>...</td>\n",
       "      <td>...</td>\n",
       "      <td>...</td>\n",
       "      <td>...</td>\n",
       "      <td>...</td>\n",
       "      <td>...</td>\n",
       "      <td>...</td>\n",
       "      <td>...</td>\n",
       "      <td>...</td>\n",
       "      <td>...</td>\n",
       "      <td>...</td>\n",
       "      <td>...</td>\n",
       "      <td>...</td>\n",
       "    </tr>\n",
       "    <tr>\n",
       "      <th>17731</th>\n",
       "      <td>Chinese Barbecued Spareribs</td>\n",
       "      <td>3.750</td>\n",
       "      <td>https://www.epicurious.com/recipes/food/views/...</td>\n",
       "      <td>0.0</td>\n",
       "      <td>0.0</td>\n",
       "      <td>0.0</td>\n",
       "      <td>0.0</td>\n",
       "      <td>0.0</td>\n",
       "      <td>0.0</td>\n",
       "      <td>0.0</td>\n",
       "      <td>...</td>\n",
       "      <td>0.0</td>\n",
       "      <td>0.0</td>\n",
       "      <td>0.0</td>\n",
       "      <td>0.0</td>\n",
       "      <td>0.0</td>\n",
       "      <td>0.0</td>\n",
       "      <td>0.0</td>\n",
       "      <td>0.0</td>\n",
       "      <td>0.0</td>\n",
       "      <td>0.0</td>\n",
       "    </tr>\n",
       "    <tr>\n",
       "      <th>17732</th>\n",
       "      <td>Artichoke and Parmesan Risotto</td>\n",
       "      <td>4.375</td>\n",
       "      <td>https://www.epicurious.com/recipes/food/views/...</td>\n",
       "      <td>0.0</td>\n",
       "      <td>0.0</td>\n",
       "      <td>0.0</td>\n",
       "      <td>0.0</td>\n",
       "      <td>0.0</td>\n",
       "      <td>0.0</td>\n",
       "      <td>0.0</td>\n",
       "      <td>...</td>\n",
       "      <td>0.0</td>\n",
       "      <td>0.0</td>\n",
       "      <td>0.0</td>\n",
       "      <td>0.0</td>\n",
       "      <td>0.0</td>\n",
       "      <td>0.0</td>\n",
       "      <td>0.0</td>\n",
       "      <td>0.0</td>\n",
       "      <td>0.0</td>\n",
       "      <td>0.0</td>\n",
       "    </tr>\n",
       "    <tr>\n",
       "      <th>17733</th>\n",
       "      <td>Turkey Cream Puff Pie</td>\n",
       "      <td>4.375</td>\n",
       "      <td>https://www.epicurious.com/recipes/food/views/...</td>\n",
       "      <td>0.0</td>\n",
       "      <td>0.0</td>\n",
       "      <td>0.0</td>\n",
       "      <td>0.0</td>\n",
       "      <td>0.0</td>\n",
       "      <td>0.0</td>\n",
       "      <td>0.0</td>\n",
       "      <td>...</td>\n",
       "      <td>0.0</td>\n",
       "      <td>0.0</td>\n",
       "      <td>0.0</td>\n",
       "      <td>0.0</td>\n",
       "      <td>0.0</td>\n",
       "      <td>0.0</td>\n",
       "      <td>0.0</td>\n",
       "      <td>0.0</td>\n",
       "      <td>0.0</td>\n",
       "      <td>1.0</td>\n",
       "    </tr>\n",
       "    <tr>\n",
       "      <th>17734</th>\n",
       "      <td>Snapper on Angel Hair with Citrus Cream</td>\n",
       "      <td>4.375</td>\n",
       "      <td>https://www.epicurious.com/recipes/food/views/...</td>\n",
       "      <td>0.0</td>\n",
       "      <td>0.0</td>\n",
       "      <td>0.0</td>\n",
       "      <td>0.0</td>\n",
       "      <td>0.0</td>\n",
       "      <td>0.0</td>\n",
       "      <td>0.0</td>\n",
       "      <td>...</td>\n",
       "      <td>0.0</td>\n",
       "      <td>0.0</td>\n",
       "      <td>0.0</td>\n",
       "      <td>0.0</td>\n",
       "      <td>0.0</td>\n",
       "      <td>0.0</td>\n",
       "      <td>0.0</td>\n",
       "      <td>0.0</td>\n",
       "      <td>0.0</td>\n",
       "      <td>0.0</td>\n",
       "    </tr>\n",
       "    <tr>\n",
       "      <th>17735</th>\n",
       "      <td>Baked Ham with Marmalade-Horseradish Glaze</td>\n",
       "      <td>4.375</td>\n",
       "      <td>https://www.epicurious.com/recipes/food/views/...</td>\n",
       "      <td>0.0</td>\n",
       "      <td>0.0</td>\n",
       "      <td>0.0</td>\n",
       "      <td>0.0</td>\n",
       "      <td>0.0</td>\n",
       "      <td>0.0</td>\n",
       "      <td>0.0</td>\n",
       "      <td>...</td>\n",
       "      <td>0.0</td>\n",
       "      <td>0.0</td>\n",
       "      <td>0.0</td>\n",
       "      <td>0.0</td>\n",
       "      <td>0.0</td>\n",
       "      <td>0.0</td>\n",
       "      <td>0.0</td>\n",
       "      <td>0.0</td>\n",
       "      <td>0.0</td>\n",
       "      <td>0.0</td>\n",
       "    </tr>\n",
       "  </tbody>\n",
       "</table>\n",
       "<p>17736 rows × 300 columns</p>\n",
       "</div>"
      ],
      "text/plain": [
       "                                             title  rating_x  \\\n",
       "0                  Lentil, Apple, and Turkey Wrap      2.500   \n",
       "1      Boudin Blanc Terrine with Red Onion Confit      4.375   \n",
       "2                    Potato and Fennel Soup Hodge      3.750   \n",
       "3                 Mahi-Mahi in Tomato Olive Sauce      5.000   \n",
       "4                        Spinach Noodle Casserole      3.125   \n",
       "...                                            ...       ...   \n",
       "17731                 Chinese Barbecued Spareribs      3.750   \n",
       "17732              Artichoke and Parmesan Risotto      4.375   \n",
       "17733                       Turkey Cream Puff Pie      4.375   \n",
       "17734     Snapper on Angel Hair with Citrus Cream      4.375   \n",
       "17735  Baked Ham with Marmalade-Horseradish Glaze      4.375   \n",
       "\n",
       "                                                    link  almond  amaretto  \\\n",
       "0      https://www.epicurious.com/recipes/food/views/...     0.0       0.0   \n",
       "1      https://www.epicurious.com/recipes/food/views/...     0.0       0.0   \n",
       "2      https://www.epicurious.com/recipes/food/views/...     0.0       0.0   \n",
       "3      https://www.epicurious.com/recipes/food/views/...     0.0       0.0   \n",
       "4      https://www.epicurious.com/recipes/food/views/...     0.0       0.0   \n",
       "...                                                  ...     ...       ...   \n",
       "17731  https://www.epicurious.com/recipes/food/views/...     0.0       0.0   \n",
       "17732  https://www.epicurious.com/recipes/food/views/...     0.0       0.0   \n",
       "17733  https://www.epicurious.com/recipes/food/views/...     0.0       0.0   \n",
       "17734  https://www.epicurious.com/recipes/food/views/...     0.0       0.0   \n",
       "17735  https://www.epicurious.com/recipes/food/views/...     0.0       0.0   \n",
       "\n",
       "       anchovy  anise  apple  apple juice  apricot  ...  watermelon  whiskey  \\\n",
       "0          0.0    0.0    1.0          0.0      0.0  ...         0.0      0.0   \n",
       "1          0.0    0.0    0.0          0.0      0.0  ...         0.0      0.0   \n",
       "2          0.0    0.0    0.0          0.0      0.0  ...         0.0      0.0   \n",
       "3          0.0    0.0    0.0          0.0      0.0  ...         0.0      0.0   \n",
       "4          0.0    0.0    0.0          0.0      0.0  ...         0.0      0.0   \n",
       "...        ...    ...    ...          ...      ...  ...         ...      ...   \n",
       "17731      0.0    0.0    0.0          0.0      0.0  ...         0.0      0.0   \n",
       "17732      0.0    0.0    0.0          0.0      0.0  ...         0.0      0.0   \n",
       "17733      0.0    0.0    0.0          0.0      0.0  ...         0.0      0.0   \n",
       "17734      0.0    0.0    0.0          0.0      0.0  ...         0.0      0.0   \n",
       "17735      0.0    0.0    0.0          0.0      0.0  ...         0.0      0.0   \n",
       "\n",
       "       white wine  whole wheat  wild rice  yellow squash  yogurt  yuca  \\\n",
       "0             0.0          0.0        0.0            0.0     0.0   0.0   \n",
       "1             0.0          0.0        0.0            0.0     0.0   0.0   \n",
       "2             0.0          0.0        0.0            0.0     0.0   0.0   \n",
       "3             0.0          0.0        0.0            0.0     0.0   0.0   \n",
       "4             0.0          0.0        0.0            0.0     0.0   0.0   \n",
       "...           ...          ...        ...            ...     ...   ...   \n",
       "17731         0.0          0.0        0.0            0.0     0.0   0.0   \n",
       "17732         0.0          0.0        0.0            0.0     0.0   0.0   \n",
       "17733         0.0          0.0        0.0            0.0     0.0   0.0   \n",
       "17734         0.0          0.0        0.0            0.0     0.0   0.0   \n",
       "17735         0.0          0.0        0.0            0.0     0.0   0.0   \n",
       "\n",
       "       zucchini  turkey  \n",
       "0           0.0     1.0  \n",
       "1           0.0     0.0  \n",
       "2           0.0     0.0  \n",
       "3           0.0     0.0  \n",
       "4           0.0     0.0  \n",
       "...         ...     ...  \n",
       "17731       0.0     0.0  \n",
       "17732       0.0     0.0  \n",
       "17733       0.0     1.0  \n",
       "17734       0.0     0.0  \n",
       "17735       0.0     0.0  \n",
       "\n",
       "[17736 rows x 300 columns]"
      ]
     },
     "execution_count": 133,
     "metadata": {},
     "output_type": "execute_result"
    }
   ],
   "source": [
    "df_for_recepies_check"
   ]
  },
  {
   "cell_type": "code",
   "execution_count": null,
   "id": "4e0a0f35",
   "metadata": {},
   "outputs": [],
   "source": []
  }
 ],
 "metadata": {
  "kernelspec": {
   "display_name": "Python 3 (ipykernel)",
   "language": "python",
   "name": "python3"
  },
  "language_info": {
   "codemirror_mode": {
    "name": "ipython",
    "version": 3
   },
   "file_extension": ".py",
   "mimetype": "text/x-python",
   "name": "python",
   "nbconvert_exporter": "python",
   "pygments_lexer": "ipython3",
   "version": "3.9.12"
  }
 },
 "nbformat": 4,
 "nbformat_minor": 5
}
